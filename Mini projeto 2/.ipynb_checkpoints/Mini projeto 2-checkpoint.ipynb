{
 "cells": [
  {
   "cell_type": "markdown",
   "metadata": {},
   "source": [
    "___\n",
    "# MINIPROJETO 2 - Teorema do limite central"
   ]
  },
  {
   "cell_type": "markdown",
   "metadata": {},
   "source": [
    "## <font color='red'>Paulo Tozzo, Leonardo Medeiros, Lucas Chen</font>\n",
    "___"
   ]
  },
  {
   "cell_type": "code",
   "execution_count": 1,
   "metadata": {
    "collapsed": false
   },
   "outputs": [],
   "source": [
    "%matplotlib inline\n",
    "import pandas as pd\n",
    "import matplotlib.pyplot as plt\n",
    "import numpy as np\n",
    "from scipy import stats\n",
    "import itertools"
   ]
  },
  {
   "cell_type": "markdown",
   "metadata": {},
   "source": [
    "Utilizaremos a distribuição exponencial"
   ]
  },
  {
   "cell_type": "code",
   "execution_count": 2,
   "metadata": {
    "collapsed": false
   },
   "outputs": [
    {
     "name": "stdout",
     "output_type": "stream",
     "text": [
      "0.990536679795\n",
      "0.971533705225\n"
     ]
    }
   ],
   "source": [
    "# 1b sorteio aleatorio de um número grande de valores da distribuição\n",
    "tamanho=1000\n",
    "\n",
    "destribuição_aleatoria_teorica = stats.expon.rvs(loc=0, scale=1, size=tamanho, random_state=None)\n",
    "da = destribuição_aleatoria_teorica\n",
    "\n",
    "#1c calculo da media e variancia desses valores\n",
    "print(np.mean(da))\n",
    "print(np.var(da))"
   ]
  },
  {
   "cell_type": "code",
   "execution_count": 3,
   "metadata": {
    "collapsed": false,
    "scrolled": true
   },
   "outputs": [
    {
     "name": "stdout",
     "output_type": "stream",
     "text": [
      "\n"
     ]
    },
    {
     "data": {
      "image/png": "[encoded data removed]",
      "text/plain": [
       "<matplotlib.figure.Figure at 0x1dd8f94b1d0>"
      ]
     },
     "metadata": {},
     "output_type": "display_data"
    }
   ],
   "source": [
    "# histograma da distribuição aleatoria\n",
    "plt.hist(da,normed=1)\n",
    "print()"
   ]
  },
  {
   "cell_type": "code",
   "execution_count": 4,
   "metadata": {
    "collapsed": false
   },
   "outputs": [
    {
     "name": "stdout",
     "output_type": "stream",
     "text": [
      "0.62858813938\n",
      " media:  1.0485679282  mediana:  0.878157655412  variancia:  0.561223931416\n"
     ]
    },
    {
     "data": {
      "image/png": "[encoded data removed]",
      "text/plain": [
       "<matplotlib.figure.Figure at 0x1dd92c21908>"
      ]
     },
     "metadata": {},
     "output_type": "display_data"
    }
   ],
   "source": [
    "# função da distribuição da média amostral\n",
    "\n",
    "def tlc(n,tamanho,amostra_aleatoria = False):\n",
    "    \n",
    "    # X1 e X9 são necessarios para o item 4\n",
    "    X1 = []\n",
    "    X9 = []\n",
    "    \n",
    "    \n",
    "    medias = []\n",
    "    for i in range (tamanho): \n",
    "        l2 = np.random.choice(da,size=n,replace=False) # sorteamos n valores aleatórias da distribuição aleatoria (da)\n",
    "        \n",
    "        if amostra_aleatoria != False and n >= 8: # necessario para o item 4\n",
    "            X1.append(l2[0])\n",
    "            X9.append(l2[8])\n",
    "        \n",
    "        x = np.mean(l2) # calculo da media\n",
    "        medias.append(x) # append da media em uma lista\n",
    "        \n",
    "        \n",
    "    print(x) # printa a ultima media calculada\n",
    "    \n",
    "    print(' media: ',np.mean(medias),\" mediana: \",np.median(medias),' variancia: ',np.var(medias))\n",
    "    \n",
    "    plt.hist(medias,normed=1) # histograma das medias\n",
    "    \n",
    "    medias_medias = np.mean(medias) # calculo da media das medias\n",
    "    medias_var = np.var(medias) # calculo da variancia das medias\n",
    "    \n",
    "    if amostra_aleatoria != False and n>9 : # necessario para o item 4\n",
    "        return X1,X9\n",
    "    \n",
    "\n",
    "\n",
    "tlc(2,tamanho) #histograma das medias para: n=2\n"
   ]
  },
  {
   "cell_type": "markdown",
   "metadata": {
    "collapsed": true
   },
   "source": [
    "como o n é pequeno o grafico não se aproxima de uma normal"
   ]
  },
  {
   "cell_type": "code",
   "execution_count": 5,
   "metadata": {
    "collapsed": false
   },
   "outputs": [
    {
     "name": "stdout",
     "output_type": "stream",
     "text": [
      "0.880536777229\n",
      " media:  1.00520185797  mediana:  0.922903159739  variancia:  0.252346182347\n"
     ]
    },
    {
     "data": {
      "image/png": "[encoded data removed]",
      "text/plain": [
       "<matplotlib.figure.Figure at 0x1dd8f94b160>"
      ]
     },
     "metadata": {},
     "output_type": "display_data"
    }
   ],
   "source": [
    "tlc(4,tamanho) #histograma das medias para: n=4"
   ]
  },
  {
   "cell_type": "code",
   "execution_count": 6,
   "metadata": {
    "collapsed": false
   },
   "outputs": [
    {
     "name": "stdout",
     "output_type": "stream",
     "text": [
      "0.854398344868\n",
      " media:  0.987005004836  mediana:  0.967080549855  variancia:  0.0466046021699\n"
     ]
    },
    {
     "data": {
      "image/png": "[encoded data removed]",
      "text/plain": [
       "<matplotlib.figure.Figure at 0x1dd935b03c8>"
      ]
     },
     "metadata": {},
     "output_type": "display_data"
    }
   ],
   "source": [
    "tlc(20,tamanho) #histograma das medias para: n=20"
   ]
  },
  {
   "cell_type": "code",
   "execution_count": 7,
   "metadata": {
    "collapsed": false
   },
   "outputs": [
    {
     "name": "stdout",
     "output_type": "stream",
     "text": [
      "0.957727612494\n",
      " media:  0.998125006902  mediana:  0.990756473885  variancia:  0.0187138070247\n"
     ]
    },
    {
     "data": {
      "image/png": "[encoded data removed]",
      "text/plain": [
       "<matplotlib.figure.Figure at 0x1dd945ff630>"
      ]
     },
     "metadata": {},
     "output_type": "display_data"
    }
   ],
   "source": [
    "X1,X9 = tlc(50,tamanho,True) #histograma das medias para: n=50 , tambem captura as listas X1 e X9 para o item 4"
   ]
  },
  {
   "cell_type": "code",
   "execution_count": 8,
   "metadata": {
    "collapsed": false
   },
   "outputs": [
    {
     "name": "stdout",
     "output_type": "stream",
     "text": [
      "1.03125168436\n",
      " media:  0.989619100617  mediana:  0.990099922175  variancia:  0.0082234914888\n"
     ]
    },
    {
     "data": {
      "image/png": "[encoded data removed]",
      "text/plain": [
       "<matplotlib.figure.Figure at 0x1dd946967f0>"
      ]
     },
     "metadata": {},
     "output_type": "display_data"
    }
   ],
   "source": [
    "tlc(100,tamanho) #histograma das medias para: n=100"
   ]
  },
  {
   "cell_type": "markdown",
   "metadata": {},
   "source": [
    "Como vimos através dos resultados obtidos, mesmo escolhendo uma distribuição aleatória que gera um gráfico não similar a uma normal, a distribuiçao da media amostral se torna uma normal apartir de n= 30 se aprocimando mais a esse tipo de distribuição quando n tende a infinito (suficientemente grande), ao calcular  a media da media amostral nessas mesmas condições se obtem o valor mais aprocimado do μ real, com maior precisão, para justificar essa modificação de comportamento pode-se comparar a media, variancia e mediana para cada n diferente. Em uma normal a media e mediana sao iguais, logo quando n aumenta a mediana e media se tornam cada vez mais proximas. Na mesma condição a variancia tende a se tornar menor, representando a aprocimação de μ real."
   ]
  },
  {
   "cell_type": "code",
   "execution_count": 9,
   "metadata": {
    "collapsed": false
   },
   "outputs": [
    {
     "name": "stdout",
     "output_type": "stream",
     "text": [
      "\n"
     ]
    },
    {
     "data": {
      "image/png": "[encoded data removed]",
      "text/plain": [
       "<matplotlib.figure.Figure at 0x1dd9471ca90>"
      ]
     },
     "metadata": {},
     "output_type": "display_data"
    }
   ],
   "source": [
    "#histograma da lista X1\n",
    "plt.hist(X1,normed=1)\n",
    "print( )"
   ]
  },
  {
   "cell_type": "code",
   "execution_count": 10,
   "metadata": {
    "collapsed": false
   },
   "outputs": [
    {
     "name": "stdout",
     "output_type": "stream",
     "text": [
      "\n"
     ]
    },
    {
     "data": {
      "image/png": "[encoded data removed]",
      "text/plain": [
       "<matplotlib.figure.Figure at 0x1dd947a3f98>"
      ]
     },
     "metadata": {},
     "output_type": "display_data"
    }
   ],
   "source": [
    "#histograma da lista X9\n",
    "plt.hist(X9,normed=1)\n",
    "print()"
   ]
  },
  {
   "cell_type": "code",
   "execution_count": 11,
   "metadata": {
    "collapsed": false
   },
   "outputs": [
    {
     "name": "stdout",
     "output_type": "stream",
     "text": [
      "-0.0383057178511\n"
     ]
    }
   ],
   "source": [
    "\n",
    "cv = 0\n",
    "mediaX1 = np.mean(X1)\n",
    "mediaX9 = np.mean(X9)\n",
    "\n",
    "for i in range(tamanho):\n",
    "    soma = ((X1[i]-mediaX1)*(X9[i]-mediaX9))\n",
    "    cv += soma\n",
    "    covariancia = cv/tamanho\n",
    "    \n",
    "    correlação = covariancia/(np.var(X1) * np.var(X9))\n",
    "    \n",
    "print(\"Correlação entre X1 e X9\" correlação)           "
   ]
  },
  {
   "cell_type": "markdown",
   "metadata": {
    "collapsed": false
   },
   "source": [
    "Atraves da comparação dos resultados obtidos na construção da distribuição X1 e X2 percebemos que essas distribuições sao independentes entre si,como esperado visto que ambas sao aleatorias, o que se justifica pelo valor correlação, que é muito distante de 1. Como os diversos valores de X1 e X2 sao obtidos aleatoriamente dentro da distribuição aleatoria (da), a distribuição de X1 e X2 tendem a ter o mesmo comportamento da distribuição (da)."
   ]
  },
  {
   "cell_type": "code",
   "execution_count": null,
   "metadata": {
    "collapsed": false
   },
   "outputs": [],
   "source": []
  },
  {
   "cell_type": "code",
   "execution_count": null,
   "metadata": {
    "collapsed": true
   },
   "outputs": [],
   "source": []
  }
 ],
 "metadata": {
  "kernelspec": {
   "display_name": "Python 3",
   "language": "python",
   "name": "python3"
  },
  "language_info": {
   "codemirror_mode": {
    "name": "ipython",
    "version": 3
   },
   "file_extension": ".py",
   "mimetype": "text/x-python",
   "name": "python",
   "nbconvert_exporter": "python",
   "pygments_lexer": "ipython3",
   "version": "3.5.1"
  }
 },
 "nbformat": 4,
 "nbformat_minor": 0
}
