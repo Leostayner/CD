{
 "cells": [
  {
   "cell_type": "markdown",
   "metadata": {
    "collapsed": false
   },
   "source": [
    "## Projeto 1"
   ]
  },
  {
   "cell_type": "markdown",
   "metadata": {},
   "source": [
    "## Leonardo Pereira Medeiros"
   ]
  },
  {
   "cell_type": "markdown",
   "metadata": {},
   "source": [
    "## A Condição de Renda em relação ao Ensino "
   ]
  },
  {
   "cell_type": "markdown",
   "metadata": {},
   "source": [
    "## Introdução\n",
    "\n",
    " No decorrer deste projeto vamos comparar dois grupos de idosos,a fim de a informação se há alguma desigualdade entre esses grupos quanto a qualidade de vida, para obter a resposta  dessa analise foi feito uma linha de raciocinio na qual se analisa a idade em que começaram a trabalhar, alfabetização , anos de estudo e renda domiciliar, tal sequencia foi feita para sustentar a resposta final que compara as renda de cada grupo, visto que a variavel anterior afeta a variavel seguinte.\n"
   ]
  },
  {
   "cell_type": "markdown",
   "metadata": {},
   "source": [
    "## Importação dos dados"
   ]
  },
  {
   "cell_type": "code",
   "execution_count": 2,
   "metadata": {
    "collapsed": true
   },
   "outputs": [],
   "source": [
    "import pandas as pd\n",
    "%matplotlib inline\n",
    "import os\n",
    "import matplotlib.pyplot as plt\n",
    "import numpy as np"
   ]
  },
  {
   "cell_type": "code",
   "execution_count": 3,
   "metadata": {
    "collapsed": false
   },
   "outputs": [
    {
     "name": "stdout",
     "output_type": "stream",
     "text": [
      "prentedemos trabalhar no seguinte diretorio:\n",
      "C:\\Users\\leo_v\\Desktop\\Insper\\2 Semestre\\Ciencias dos Dados\\Projeto1\n"
     ]
    }
   ],
   "source": [
    "print(\"prentedemos trabalhar no seguinte diretorio:\")\n",
    "print(os.getcwd())\n"
   ]
  },
  {
   "cell_type": "code",
   "execution_count": 4,
   "metadata": {
    "collapsed": true
   },
   "outputs": [],
   "source": [
    "dadosI = pd.read_csv(\"PES2014.csv\",sep =',')"
   ]
  },
  {
   "cell_type": "code",
   "execution_count": 5,
   "metadata": {
    "collapsed": false,
    "scrolled": true
   },
   "outputs": [
    {
     "data": {
      "text/html": [
       "<div>\n",
       "<table border=\"1\" class=\"dataframe\">\n",
       "  <thead>\n",
       "    <tr style=\"text-align: right;\">\n",
       "      <th></th>\n",
       "      <th>Unnamed: 0</th>\n",
       "      <th>V0101</th>\n",
       "      <th>UF</th>\n",
       "      <th>V0102</th>\n",
       "      <th>V0103</th>\n",
       "      <th>V0301</th>\n",
       "      <th>V0302</th>\n",
       "      <th>V3031</th>\n",
       "      <th>V3032</th>\n",
       "      <th>V3033</th>\n",
       "      <th>...</th>\n",
       "      <th>V4741</th>\n",
       "      <th>V4742</th>\n",
       "      <th>V4743</th>\n",
       "      <th>V4745</th>\n",
       "      <th>V4746</th>\n",
       "      <th>V4747</th>\n",
       "      <th>V4748</th>\n",
       "      <th>V4749</th>\n",
       "      <th>V4750</th>\n",
       "      <th>V9993</th>\n",
       "    </tr>\n",
       "  </thead>\n",
       "  <tbody>\n",
       "    <tr>\n",
       "      <th>0</th>\n",
       "      <td>0</td>\n",
       "      <td>2014</td>\n",
       "      <td>11</td>\n",
       "      <td>15</td>\n",
       "      <td>1</td>\n",
       "      <td>1</td>\n",
       "      <td>2</td>\n",
       "      <td>19</td>\n",
       "      <td>8</td>\n",
       "      <td>1987</td>\n",
       "      <td>...</td>\n",
       "      <td>3</td>\n",
       "      <td>500</td>\n",
       "      <td>3</td>\n",
       "      <td>3</td>\n",
       "      <td>1</td>\n",
       "      <td>2</td>\n",
       "      <td>2</td>\n",
       "      <td>1</td>\n",
       "      <td>500</td>\n",
       "      <td>20160623</td>\n",
       "    </tr>\n",
       "    <tr>\n",
       "      <th>1</th>\n",
       "      <td>1</td>\n",
       "      <td>2014</td>\n",
       "      <td>11</td>\n",
       "      <td>15</td>\n",
       "      <td>1</td>\n",
       "      <td>2</td>\n",
       "      <td>4</td>\n",
       "      <td>19</td>\n",
       "      <td>1</td>\n",
       "      <td>1986</td>\n",
       "      <td>...</td>\n",
       "      <td>3</td>\n",
       "      <td>500</td>\n",
       "      <td>3</td>\n",
       "      <td>4</td>\n",
       "      <td>2</td>\n",
       "      <td>NaN</td>\n",
       "      <td>2</td>\n",
       "      <td>1</td>\n",
       "      <td>500</td>\n",
       "      <td>20160623</td>\n",
       "    </tr>\n",
       "    <tr>\n",
       "      <th>2</th>\n",
       "      <td>2</td>\n",
       "      <td>2014</td>\n",
       "      <td>11</td>\n",
       "      <td>15</td>\n",
       "      <td>1</td>\n",
       "      <td>3</td>\n",
       "      <td>2</td>\n",
       "      <td>14</td>\n",
       "      <td>5</td>\n",
       "      <td>2013</td>\n",
       "      <td>...</td>\n",
       "      <td>3</td>\n",
       "      <td>500</td>\n",
       "      <td>3</td>\n",
       "      <td>1</td>\n",
       "      <td>NaN</td>\n",
       "      <td>NaN</td>\n",
       "      <td>NaN</td>\n",
       "      <td>NaN</td>\n",
       "      <td>500</td>\n",
       "      <td>20160623</td>\n",
       "    </tr>\n",
       "    <tr>\n",
       "      <th>3</th>\n",
       "      <td>3</td>\n",
       "      <td>2014</td>\n",
       "      <td>11</td>\n",
       "      <td>15</td>\n",
       "      <td>2</td>\n",
       "      <td>1</td>\n",
       "      <td>2</td>\n",
       "      <td>8</td>\n",
       "      <td>4</td>\n",
       "      <td>1963</td>\n",
       "      <td>...</td>\n",
       "      <td>2</td>\n",
       "      <td>1150</td>\n",
       "      <td>4</td>\n",
       "      <td>2</td>\n",
       "      <td>1</td>\n",
       "      <td>2</td>\n",
       "      <td>2</td>\n",
       "      <td>1</td>\n",
       "      <td>1150</td>\n",
       "      <td>20160623</td>\n",
       "    </tr>\n",
       "    <tr>\n",
       "      <th>4</th>\n",
       "      <td>4</td>\n",
       "      <td>2014</td>\n",
       "      <td>11</td>\n",
       "      <td>15</td>\n",
       "      <td>2</td>\n",
       "      <td>2</td>\n",
       "      <td>4</td>\n",
       "      <td>6</td>\n",
       "      <td>11</td>\n",
       "      <td>1970</td>\n",
       "      <td>...</td>\n",
       "      <td>2</td>\n",
       "      <td>1150</td>\n",
       "      <td>4</td>\n",
       "      <td>3</td>\n",
       "      <td>1</td>\n",
       "      <td>2</td>\n",
       "      <td>2</td>\n",
       "      <td>1</td>\n",
       "      <td>1150</td>\n",
       "      <td>20160623</td>\n",
       "    </tr>\n",
       "  </tbody>\n",
       "</table>\n",
       "<p>5 rows × 342 columns</p>\n",
       "</div>"
      ],
      "text/plain": [
       "   Unnamed: 0  V0101  UF     V0102  V0103  V0301  V0302  V3031  V3032  V3033  \\\n",
       "0           0   2014     11     15      1      1      2     19      8   1987   \n",
       "1           1   2014     11     15      1      2      4     19      1   1986   \n",
       "2           2   2014     11     15      1      3      2     14      5   2013   \n",
       "3           3   2014     11     15      2      1      2      8      4   1963   \n",
       "4           4   2014     11     15      2      2      4      6     11   1970   \n",
       "\n",
       "     ...     V4741  V4742  V4743  V4745  V4746  V4747  V4748  V4749  V4750  \\\n",
       "0    ...         3    500      3      3      1      2      2      1    500   \n",
       "1    ...         3    500      3      4      2    NaN      2      1    500   \n",
       "2    ...         3    500      3      1    NaN    NaN    NaN    NaN    500   \n",
       "3    ...         2   1150      4      2      1      2      2      1   1150   \n",
       "4    ...         2   1150      4      3      1      2      2      1   1150   \n",
       "\n",
       "      V9993  \n",
       "0  20160623  \n",
       "1  20160623  \n",
       "2  20160623  \n",
       "3  20160623  \n",
       "4  20160623  \n",
       "\n",
       "[5 rows x 342 columns]"
      ]
     },
     "execution_count": 5,
     "metadata": {},
     "output_type": "execute_result"
    }
   ],
   "source": [
    "dadosI.head()"
   ]
  },
  {
   "cell_type": "markdown",
   "metadata": {},
   "source": [
    "## Novo dataframe com apenas idosos"
   ]
  },
  {
   "cell_type": "code",
   "execution_count": 6,
   "metadata": {
    "collapsed": false
   },
   "outputs": [],
   "source": [
    "#filtrando o dataframe para um novo,o qual considera apenas os idosos, com participação economica ativa, da cor parda,com a mesma faixa\n",
    "#de idade, ou seja entre 60 e 80 anos\n",
    "dados = dadosI[(dadosI.V9122 == 2)|(dadosI.V8005[60:80])|(dadosI.V0404 == 8)|(dadosI.V4704 ==1)]\n"
   ]
  },
  {
   "cell_type": "markdown",
   "metadata": {},
   "source": [
    "## Aquisição de variaveis"
   ]
  },
  {
   "cell_type": "code",
   "execution_count": 7,
   "metadata": {
    "collapsed": false,
    "scrolled": true
   },
   "outputs": [
    {
     "name": "stderr",
     "output_type": "stream",
     "text": [
      "C:\\Users\\leo_v\\Anaconda3\\lib\\site-packages\\pandas\\core\\generic.py:2387: SettingWithCopyWarning: \n",
      "A value is trying to be set on a copy of a slice from a DataFrame.\n",
      "Try using .loc[row_indexer,col_indexer] = value instead\n",
      "\n",
      "See the caveats in the documentation: http://pandas.pydata.org/pandas-docs/stable/indexing.html#indexing-view-versus-copy\n",
      "  self[name] = value\n"
     ]
    }
   ],
   "source": [
    "dados.V0302 = dados.V0302.astype(\"category\")   #Sexo                                             -desigual-\n",
    "dados.V8005 = dados.V8005.astype(\"float\")      #Idade                                            -igual-\n",
    "dados.V4704 = dados.V4704.astype(\"category\")   #participação economica                           -igual-\n",
    "dados.V0601 = dados.V0601.astype(\"category\")   #Sabe ler e Escrever                              -desigual-\n",
    "dados.V9891 = dados.V9891.astype(\"category\")   #faixa de idade em que começou a trabalhar        -desigual-\n",
    "dados.V4742 = dados.V4742.astype(\"float\")      #rendimento domiciliar                            -desigual-\n",
    "dados.V0404 = dados.V0404.astype('category')   #cor ou raça                                      -igual-\n",
    "dados.V4803 = dados.V4803.astype('float')      #anos de estudo                                   -desigual-\n",
    "\n",
    "dados.V4742 = dados.V4742[(dados.V4742!=999999999999) & (~dados.V4742.isnull())]"
   ]
  },
  {
   "cell_type": "markdown",
   "metadata": {},
   "source": [
    "## Renomeando variaveis"
   ]
  },
  {
   "cell_type": "code",
   "execution_count": 8,
   "metadata": {
    "collapsed": false
   },
   "outputs": [],
   "source": [
    "dados.V0302.cat.categories = ['Masculino','Feminino']\n",
    "dados.V0601.cat.categories = ['Alfabeto','Analfabeto']\n",
    "dados.V9891.cat.categories = [\"Até 9 anos\",\"10 a 14 anos\",\"15 a 17 anos\",\"18 a 19 anos\",\"20 a 24 anos\",\"25 a 29 anos\",\"30 anos ou mais\"]"
   ]
  },
  {
   "cell_type": "markdown",
   "metadata": {},
   "source": [
    "## Analise da frequencia de sexo"
   ]
  },
  {
   "cell_type": "code",
   "execution_count": 9,
   "metadata": {
    "collapsed": false
   },
   "outputs": [
    {
     "name": "stdout",
     "output_type": "stream",
     "text": [
      "frequencia relativa por sexo\n",
      "Masculino    0.5\n",
      "Feminino     0.5\n",
      "dtype: float64 \n",
      "\n"
     ]
    }
   ],
   "source": [
    "print(\"frequencia relativa por sexo\")\n",
    "d = dados.V0302.value_counts(True).round(decimals = 1).reindex(['Masculino','Feminino'])\n",
    "print(d,\"\\n\")"
   ]
  },
  {
   "cell_type": "markdown",
   "metadata": {},
   "source": [
    "## Análise da frequencia das variaveis considerando apenas o Sexo Masculino"
   ]
  },
  {
   "cell_type": "code",
   "execution_count": 10,
   "metadata": {
    "collapsed": false
   },
   "outputs": [
    {
     "name": "stdout",
     "output_type": "stream",
     "text": [
      "frequencia relativa por faixa de idade em que começou a trabalhar\n",
      "Até 9 anos         0.08\n",
      "10 a 14 anos       0.27\n",
      "15 a 17 anos       0.20\n",
      "18 a 19 anos       0.11\n",
      "20 a 24 anos       0.04\n",
      "25 a 29 anos       0.01\n",
      "30 anos ou mais    0.00\n",
      "dtype: float64 \n",
      "\n",
      "frequencia relativa por alfabetização\n",
      "Alfabeto      0.87\n",
      "Analfabeto    0.13\n",
      "dtype: float64 \n",
      "\n"
     ]
    }
   ],
   "source": [
    "print(\"frequencia relativa por faixa de idade em que começou a trabalhar\")\n",
    "m1 = (dados.V9891[dados.V0302 == \"Masculino\"].value_counts(True)).round(decimals =2).reindex([\"Até 9 anos\",\"10 a 14 anos\",\"15 a 17 anos\",\"18 a 19 anos\",\"20 a 24 anos\",\"25 a 29 anos\",\"30 anos ou mais\"])\n",
    "print(m1,\"\\n\")\n",
    "  \n",
    "print(\"frequencia relativa por alfabetização\")\n",
    "m2 = (dados.V0601[dados.V0302 == \"Masculino\"].value_counts(True)).round(decimals =2).reindex(['Alfabeto','Analfabeto'])\n",
    "print(m2,\"\\n\")"
   ]
  },
  {
   "cell_type": "markdown",
   "metadata": {},
   "source": [
    "## Análise da frequencia das variaveis considerando apenas o Sexo Feminino"
   ]
  },
  {
   "cell_type": "code",
   "execution_count": 11,
   "metadata": {
    "collapsed": false
   },
   "outputs": [
    {
     "name": "stdout",
     "output_type": "stream",
     "text": [
      "frequencia relativa por faixa de idade em que começou a trabalhar\n",
      "Até 9 anos         0.05\n",
      "10 a 14 anos       0.17\n",
      "15 a 17 anos       0.16\n",
      "18 a 19 anos       0.11\n",
      "20 a 24 anos       0.06\n",
      "25 a 29 anos       0.02\n",
      "30 anos ou mais    0.01\n",
      "dtype: float64 \n",
      "\n",
      "frequencia relativa por alfabetização\n",
      "Alfabeto      0.88\n",
      "Analfabeto    0.12\n",
      "dtype: float64 \n",
      "\n"
     ]
    }
   ],
   "source": [
    "print(\"frequencia relativa por faixa de idade em que começou a trabalhar\")\n",
    "f1 = (dados.V9891[dados.V0302 == \"Feminino\"].value_counts(True)).round(decimals =2).reindex([\"Até 9 anos\",\"10 a 14 anos\",\"15 a 17 anos\",\"18 a 19 anos\",\"20 a 24 anos\",\"25 a 29 anos\",\"30 anos ou mais\"])\n",
    "print(f1,\"\\n\")\n",
    "  \n",
    "print(\"frequencia relativa por alfabetização\")\n",
    "f2 = (dados.V0601[dados.V0302 == \"Feminino\"].value_counts(True)).round(decimals =2).reindex(['Alfabeto','Analfabeto'])\n",
    "print(f2,\"\\n\")\n",
    " \n"
   ]
  },
  {
   "cell_type": "code",
   "execution_count": 12,
   "metadata": {
    "collapsed": false
   },
   "outputs": [
    {
     "data": {
      "text/plain": [
       "count    292259.000000\n",
       "mean          8.263431\n",
       "std           4.823854\n",
       "min           1.000000\n",
       "25%           4.000000\n",
       "50%           9.000000\n",
       "75%          12.000000\n",
       "max          17.000000\n",
       "Name: V4803, dtype: float64"
      ]
     },
     "execution_count": 12,
     "metadata": {},
     "output_type": "execute_result"
    }
   ],
   "source": [
    "dados.V4803.describe()"
   ]
  },
  {
   "cell_type": "code",
   "execution_count": 13,
   "metadata": {
    "collapsed": true
   },
   "outputs": [],
   "source": [
    "faixa = faixa = np.arange(16,48,2)"
   ]
  },
  {
   "cell_type": "markdown",
   "metadata": {},
   "source": [
    "## Análise grafica das variaveis isoladas"
   ]
  },
  {
   "cell_type": "code",
   "execution_count": 14,
   "metadata": {
    "collapsed": false
   },
   "outputs": [
    {
     "data": {
      "image/png": "[encoded data removed]",
      "text/plain": [
       "<matplotlib.figure.Figure at 0x2285da54c88>"
      ]
     },
     "metadata": {},
     "output_type": "display_data"
    }
   ],
   "source": [
    "plot = d.plot(kind = \"pie\",title = \"Sexo\",autopct='%.1f',figsize = (8,8))\n",
    "\n"
   ]
  },
  {
   "cell_type": "code",
   "execution_count": 16,
   "metadata": {
    "collapsed": false
   },
   "outputs": [
    {
     "name": "stdout",
     "output_type": "stream",
     "text": [
      "Sexo Feminino:\n"
     ]
    },
    {
     "data": {
      "image/png": "[encoded data removed]",
      "text/plain": [
       "<matplotlib.figure.Figure at 0x2281df13668>"
      ]
     },
     "metadata": {},
     "output_type": "display_data"
    },
    {
     "name": "stdout",
     "output_type": "stream",
     "text": [
      "Sexo Masculino:\n"
     ]
    },
    {
     "data": {
      "image/png": "[encoded data removed]",
      "text/plain": [
       "<matplotlib.figure.Figure at 0x2281df96d68>"
      ]
     },
     "metadata": {},
     "output_type": "display_data"
    }
   ],
   "source": [
    "print('Sexo Feminino:')\n",
    "plot = m2.plot(kind = \"bar\",title = \"Sexo por Alfabetismo\",figsize = (6,6), color = ('b','g'))\n",
    "plt.ylabel(\"genero\")\n",
    "plt.xlabel(\"frequencia\")\n",
    "plt.show()\n",
    "\n",
    "print('Sexo Masculino:')\n",
    "plot = f2.plot(kind = \"bar\",title = \"Sexo por Alfabetismo\",figsize = (6,6), color = ('b','g'))\n",
    "plt.ylabel(\"genero\")\n",
    "plt.xlabel(\"frequencia\")\n",
    "plt.show()"
   ]
  },
  {
   "cell_type": "markdown",
   "metadata": {},
   "source": [
    "## Analise grafica por cruzamento de Variaveis"
   ]
  },
  {
   "cell_type": "markdown",
   "metadata": {},
   "source": [
    "## Comparação de dados Sexo por Idade em que começou a Trabalhar"
   ]
  },
  {
   "cell_type": "code",
   "execution_count": 17,
   "metadata": {
    "collapsed": false
   },
   "outputs": [
    {
     "data": {
      "text/html": [
       "<div>\n",
       "<table border=\"1\" class=\"dataframe\">\n",
       "  <thead>\n",
       "    <tr style=\"text-align: right;\">\n",
       "      <th></th>\n",
       "      <th>Até 9 anos</th>\n",
       "      <th>10 a 14 anos</th>\n",
       "      <th>15 a 17 anos</th>\n",
       "      <th>18 a 19 anos</th>\n",
       "      <th>20 a 24 anos</th>\n",
       "      <th>25 a 29 anos</th>\n",
       "      <th>30 anos ou mais</th>\n",
       "      <th>All</th>\n",
       "    </tr>\n",
       "    <tr>\n",
       "      <th>Sexo</th>\n",
       "      <th></th>\n",
       "      <th></th>\n",
       "      <th></th>\n",
       "      <th></th>\n",
       "      <th></th>\n",
       "      <th></th>\n",
       "      <th></th>\n",
       "      <th></th>\n",
       "    </tr>\n",
       "  </thead>\n",
       "  <tbody>\n",
       "    <tr>\n",
       "      <th>Feminino</th>\n",
       "      <td>2</td>\n",
       "      <td>8</td>\n",
       "      <td>8</td>\n",
       "      <td>5</td>\n",
       "      <td>3</td>\n",
       "      <td>1</td>\n",
       "      <td>0</td>\n",
       "      <td>49</td>\n",
       "    </tr>\n",
       "    <tr>\n",
       "      <th>Masculino</th>\n",
       "      <td>4</td>\n",
       "      <td>14</td>\n",
       "      <td>10</td>\n",
       "      <td>5</td>\n",
       "      <td>2</td>\n",
       "      <td>0</td>\n",
       "      <td>0</td>\n",
       "      <td>51</td>\n",
       "    </tr>\n",
       "    <tr>\n",
       "      <th>All</th>\n",
       "      <td>6</td>\n",
       "      <td>22</td>\n",
       "      <td>18</td>\n",
       "      <td>11</td>\n",
       "      <td>5</td>\n",
       "      <td>1</td>\n",
       "      <td>1</td>\n",
       "      <td>100</td>\n",
       "    </tr>\n",
       "  </tbody>\n",
       "</table>\n",
       "</div>"
      ],
      "text/plain": [
       "           Até 9 anos  10 a 14 anos  15 a 17 anos  18 a 19 anos  20 a 24 anos  \\\n",
       "Sexo                                                                            \n",
       "Feminino            2             8             8             5             3   \n",
       "Masculino           4            14            10             5             2   \n",
       "All                 6            22            18            11             5   \n",
       "\n",
       "           25 a 29 anos  30 anos ou mais  All  \n",
       "Sexo                                           \n",
       "Feminino              1                0   49  \n",
       "Masculino             0                0   51  \n",
       "All                   1                1  100  "
      ]
     },
     "execution_count": 17,
     "metadata": {},
     "output_type": "execute_result"
    }
   ],
   "source": [
    "ct = pd.crosstab(dados.V0302,dados.V9891,margins = True ,rownames = [\"Sexo\"],colnames = [\"Idade de inicio de trabalho\"])\n",
    "ct = ct.loc[[\"Feminino\",'Masculino','All']]\n",
    "ct\n",
    "\n",
    "ct1 = (ct/len(dados)*100).round(decimals=0)\n",
    "ct1"
   ]
  },
  {
   "cell_type": "code",
   "execution_count": 18,
   "metadata": {
    "collapsed": false
   },
   "outputs": [
    {
     "data": {
      "text/plain": [
       "<matplotlib.text.Text at 0x2284e4450b8>"
      ]
     },
     "execution_count": 18,
     "metadata": {},
     "output_type": "execute_result"
    },
    {
     "data": {
      "image/png": "[encoded data removed]",
      "text/plain": [
       "<matplotlib.figure.Figure at 0x2285da56f98>"
      ]
     },
     "metadata": {},
     "output_type": "display_data"
    }
   ],
   "source": [
    "ct1 = ct1.iloc[0:2,]\n",
    "plot = ct1.plot(kind='bar',figsize = (10,10))\n",
    "plt.ylabel('Freq.Relativa da faixa de idade em que começou a trabalhar(em%)')"
   ]
  },
  {
   "cell_type": "markdown",
   "metadata": {
    "collapsed": false
   },
   "source": [
    "## Comparação  Sexo por Anos de Estudo"
   ]
  },
  {
   "cell_type": "code",
   "execution_count": 19,
   "metadata": {
    "collapsed": false
   },
   "outputs": [
    {
     "data": {
      "text/plain": [
       "count    292259.000000\n",
       "mean          8.263431\n",
       "std           4.823854\n",
       "min           1.000000\n",
       "25%           4.000000\n",
       "50%           9.000000\n",
       "75%          12.000000\n",
       "max          17.000000\n",
       "Name: V4803, dtype: float64"
      ]
     },
     "execution_count": 19,
     "metadata": {},
     "output_type": "execute_result"
    }
   ],
   "source": [
    "dados.V4803.describe()"
   ]
  },
  {
   "cell_type": "code",
   "execution_count": 20,
   "metadata": {
    "collapsed": false
   },
   "outputs": [
    {
     "data": {
      "text/plain": [
       "(10, 13]    80821\n",
       "(4, 7]      51555\n",
       "(7, 10]     46767\n",
       "(13, 16]    37106\n",
       "(1, 4]      30156\n",
       "dtype: int64"
      ]
     },
     "execution_count": 20,
     "metadata": {},
     "output_type": "execute_result"
    }
   ],
   "source": [
    "faixa = np.arange(1,17,3)\n",
    "V4803 = pd.cut(dados.V4803,faixa)\n",
    "V4803.value_counts()"
   ]
  },
  {
   "cell_type": "code",
   "execution_count": 21,
   "metadata": {
    "collapsed": false
   },
   "outputs": [
    {
     "name": "stdout",
     "output_type": "stream",
     "text": [
      "Azul = Feminino \n",
      "\n",
      "Verde = Masculino\n"
     ]
    },
    {
     "data": {
      "image/png": "[encoded data removed]",
      "text/plain": [
       "<matplotlib.figure.Figure at 0x2284e478780>"
      ]
     },
     "metadata": {},
     "output_type": "display_data"
    }
   ],
   "source": [
    "plot = dados.V4803[dados.V0302 == \"Feminino\"].plot.hist(bins=faixa,normed = 1,figsize = (8,8),alpha = 0.2,color = \"b\")\n",
    "plt.ylabel(\"densidade\")\n",
    "\n",
    "\n",
    "plot = dados.V4803[dados.V0302 ==\"Masculino\"].plot.hist(bins=faixa,normed = 1,figsize = (8,8),alpha = 0.2,color = \"g\")\n",
    "plt.ylabel(\"Densidade\")\n",
    "plt.xlabel(\"Anos de Estudo\")\n",
    "print('Azul = Feminino', '\\n')\n",
    "print('Verde = Masculino')"
   ]
  },
  {
   "cell_type": "markdown",
   "metadata": {
    "collapsed": false
   },
   "source": [
    "## Compraração Sexo por alfabetismo"
   ]
  },
  {
   "cell_type": "code",
   "execution_count": 22,
   "metadata": {
    "collapsed": false
   },
   "outputs": [
    {
     "data": {
      "text/html": [
       "<div>\n",
       "<table border=\"1\" class=\"dataframe\">\n",
       "  <thead>\n",
       "    <tr style=\"text-align: right;\">\n",
       "      <th>Cor ou raça</th>\n",
       "      <th>Alfabeto</th>\n",
       "      <th>Analfabeto</th>\n",
       "      <th>All</th>\n",
       "    </tr>\n",
       "    <tr>\n",
       "      <th>Sexo</th>\n",
       "      <th></th>\n",
       "      <th></th>\n",
       "      <th></th>\n",
       "    </tr>\n",
       "  </thead>\n",
       "  <tbody>\n",
       "    <tr>\n",
       "      <th>Feminino</th>\n",
       "      <td>125666</td>\n",
       "      <td>17544</td>\n",
       "      <td>143210</td>\n",
       "    </tr>\n",
       "    <tr>\n",
       "      <th>Masculino</th>\n",
       "      <td>129442</td>\n",
       "      <td>19607</td>\n",
       "      <td>149049</td>\n",
       "    </tr>\n",
       "    <tr>\n",
       "      <th>All</th>\n",
       "      <td>255108</td>\n",
       "      <td>37151</td>\n",
       "      <td>292259</td>\n",
       "    </tr>\n",
       "  </tbody>\n",
       "</table>\n",
       "</div>"
      ],
      "text/plain": [
       "Cor ou raça  Alfabeto  Analfabeto     All\n",
       "Sexo                                     \n",
       "Feminino       125666       17544  143210\n",
       "Masculino      129442       19607  149049\n",
       "All            255108       37151  292259"
      ]
     },
     "execution_count": 22,
     "metadata": {},
     "output_type": "execute_result"
    }
   ],
   "source": [
    "ct = pd.crosstab(dados.V0302,dados.V0601,margins = True ,rownames = [\"Sexo\"],colnames = [\"Cor ou raça\"])\n",
    "ct = ct.loc[[\"Feminino\",'Masculino','All']]\n",
    "ct"
   ]
  },
  {
   "cell_type": "code",
   "execution_count": 23,
   "metadata": {
    "collapsed": false
   },
   "outputs": [
    {
     "data": {
      "text/html": [
       "<div>\n",
       "<table border=\"1\" class=\"dataframe\">\n",
       "  <thead>\n",
       "    <tr style=\"text-align: right;\">\n",
       "      <th></th>\n",
       "      <th>Alfabeto</th>\n",
       "      <th>Analfabeto</th>\n",
       "      <th>All</th>\n",
       "    </tr>\n",
       "    <tr>\n",
       "      <th>Sexo</th>\n",
       "      <th></th>\n",
       "      <th></th>\n",
       "      <th></th>\n",
       "    </tr>\n",
       "  </thead>\n",
       "  <tbody>\n",
       "    <tr>\n",
       "      <th>Feminino</th>\n",
       "      <td>43</td>\n",
       "      <td>6</td>\n",
       "      <td>49</td>\n",
       "    </tr>\n",
       "    <tr>\n",
       "      <th>Masculino</th>\n",
       "      <td>44</td>\n",
       "      <td>7</td>\n",
       "      <td>51</td>\n",
       "    </tr>\n",
       "    <tr>\n",
       "      <th>All</th>\n",
       "      <td>87</td>\n",
       "      <td>13</td>\n",
       "      <td>100</td>\n",
       "    </tr>\n",
       "  </tbody>\n",
       "</table>\n",
       "</div>"
      ],
      "text/plain": [
       "           Alfabeto  Analfabeto  All\n",
       "Sexo                                \n",
       "Feminino         43           6   49\n",
       "Masculino        44           7   51\n",
       "All              87          13  100"
      ]
     },
     "execution_count": 23,
     "metadata": {},
     "output_type": "execute_result"
    }
   ],
   "source": [
    "ct1 = (ct/len(dados)*100).round(decimals=0)\n",
    "ct1"
   ]
  },
  {
   "cell_type": "code",
   "execution_count": 24,
   "metadata": {
    "collapsed": false
   },
   "outputs": [
    {
     "data": {
      "text/plain": [
       "<matplotlib.text.Text at 0x2284e445a20>"
      ]
     },
     "execution_count": 24,
     "metadata": {},
     "output_type": "execute_result"
    },
    {
     "data": {
      "image/png": "[encoded data removed]",
      "text/plain": [
       "<matplotlib.figure.Figure at 0x2284fcd8e48>"
      ]
     },
     "metadata": {},
     "output_type": "display_data"
    }
   ],
   "source": [
    "ct1 = ct1.iloc[0:2,]\n",
    "plot = ct1.plot(kind='bar',figsize = (10,10))\n",
    "plt.ylabel('Freq.Relativa (em%)')"
   ]
  },
  {
   "cell_type": "markdown",
   "metadata": {},
   "source": [
    "## OBS:\n",
    " Através dos resultados acima podemos notar que é maior a taxa de homens que começam a trabalhar mais cedo , o que influencia na redução nos anos de estudos desse grupo, isso se deve geralmente ao maior incentivo que os pais dao aos homens para trabalhar mais cedo, devido a um comportamento social que ainda perciste. Diferente do esperado, o analfalbetismo nao apresenta grande relação com o inicio de trabalha em idades baixas. \n"
   ]
  },
  {
   "cell_type": "markdown",
   "metadata": {
    "collapsed": false
   },
   "source": [
    "## Comparação Sexo por rendimento domiciliar"
   ]
  },
  {
   "cell_type": "code",
   "execution_count": 25,
   "metadata": {
    "collapsed": false
   },
   "outputs": [
    {
     "data": {
      "text/plain": [
       "count    281123.000000\n",
       "mean       1045.225777\n",
       "std        1717.068025\n",
       "min           0.000000\n",
       "25%         362.000000\n",
       "50%         666.000000\n",
       "75%        1133.000000\n",
       "max      331200.000000\n",
       "Name: V4742, dtype: float64"
      ]
     },
     "execution_count": 25,
     "metadata": {},
     "output_type": "execute_result"
    }
   ],
   "source": [
    "dados.V4742.describe()"
   ]
  },
  {
   "cell_type": "code",
   "execution_count": 26,
   "metadata": {
    "collapsed": false
   },
   "outputs": [
    {
     "data": {
      "text/plain": [
       "(0, 1000]       196882\n",
       "(1000, 2000]     53593\n",
       "(2000, 3000]     13347\n",
       "(3000, 4000]      6028\n",
       "(4000, 5000]      3163\n",
       "(5000, 6000]      1814\n",
       "(6000, 7000]      1245\n",
       "(7000, 8000]       759\n",
       "(8000, 9000]       584\n",
       "dtype: int64"
      ]
     },
     "execution_count": 26,
     "metadata": {},
     "output_type": "execute_result"
    }
   ],
   "source": [
    "faixa = np.arange(0,10000,1000)\n",
    "V4742 = pd.cut(dados.V4750,faixa)\n",
    "V4742.value_counts()"
   ]
  },
  {
   "cell_type": "code",
   "execution_count": 27,
   "metadata": {
    "collapsed": false
   },
   "outputs": [
    {
     "data": {
      "image/png": "[encoded data removed]",
      "text/plain": [
       "<matplotlib.figure.Figure at 0x2284e587080>"
      ]
     },
     "metadata": {},
     "output_type": "display_data"
    }
   ],
   "source": [
    "plot = dados.V4742[dados.V0302 == \"Feminino\"].plot.hist(bins=faixa,normed = 1,figsize = (8,8),alpha = 0.2)\n",
    "plt.ylabel(\"Densidade\")\n",
    "plt.xlabel(\"Renda\")\n",
    "\n",
    "plot = dados.V4742[dados.V0302 ==\"Masculino\"].plot.hist(bins=faixa,normed = 1,figsize = (8,8),alpha = 0.2)\n",
    "\n"
   ]
  },
  {
   "cell_type": "markdown",
   "metadata": {
    "collapsed": true
   },
   "source": [
    "### BoxPlots Comparativos (Analise dos Quartis)"
   ]
  },
  {
   "cell_type": "code",
   "execution_count": 28,
   "metadata": {
    "collapsed": false
   },
   "outputs": [
    {
     "name": "stdout",
     "output_type": "stream",
     "text": [
      "Sexo Masculino\n"
     ]
    },
    {
     "data": {
      "text/plain": [
       "<matplotlib.text.Text at 0x2284e5514a8>"
      ]
     },
     "execution_count": 28,
     "metadata": {},
     "output_type": "execute_result"
    },
    {
     "data": {
      "image/png": "[encoded data removed]",
      "text/plain": [
       "<matplotlib.figure.Figure at 0x2284f87e4e0>"
      ]
     },
     "metadata": {},
     "output_type": "display_data"
    }
   ],
   "source": [
    "print('Sexo Masculino')\n",
    "dados.V4803[dados.V0302 =='Masculino'].plot.box(figsize = (10,10) ) \n",
    "plt.ylabel('Anos de Estudo')"
   ]
  },
  {
   "cell_type": "code",
   "execution_count": 29,
   "metadata": {
    "collapsed": false
   },
   "outputs": [
    {
     "name": "stdout",
     "output_type": "stream",
     "text": [
      "Sexo Feminino:\n"
     ]
    },
    {
     "data": {
      "text/plain": [
       "<matplotlib.text.Text at 0x2285d4055f8>"
      ]
     },
     "execution_count": 29,
     "metadata": {},
     "output_type": "execute_result"
    },
    {
     "data": {
      "image/png": "[encoded data removed]",
      "text/plain": [
       "<matplotlib.figure.Figure at 0x2284e49c358>"
      ]
     },
     "metadata": {},
     "output_type": "display_data"
    }
   ],
   "source": [
    "print(\"Sexo Feminino:\")\n",
    "dados.V4803[dados.V0302 =='Feminino'].plot.box(figsize = (10,10) ) \n",
    "plt.ylabel('Anos de Estudo')\n"
   ]
  },
  {
   "cell_type": "code",
   "execution_count": 30,
   "metadata": {
    "collapsed": false
   },
   "outputs": [
    {
     "name": "stdout",
     "output_type": "stream",
     "text": [
      "Sexo Masculino:\n"
     ]
    },
    {
     "data": {
      "text/plain": [
       "<matplotlib.text.Text at 0x2284e54a898>"
      ]
     },
     "execution_count": 30,
     "metadata": {},
     "output_type": "execute_result"
    },
    {
     "data": {
      "image/png": "[encoded data removed]",
      "text/plain": [
       "<matplotlib.figure.Figure at 0x2285d634710>"
      ]
     },
     "metadata": {},
     "output_type": "display_data"
    }
   ],
   "source": [
    "print(\"Sexo Masculino:\")\n",
    "dados.V4742[dados.V0302 =='Masculino'].plot.box(figsize = (10,10) ) \n",
    "plt.axis([0, 3, 0, 10000])\n",
    "plt.ylabel('Renda')"
   ]
  },
  {
   "cell_type": "code",
   "execution_count": 31,
   "metadata": {
    "collapsed": false
   },
   "outputs": [
    {
     "name": "stdout",
     "output_type": "stream",
     "text": [
      "Sexo Feminino:\n"
     ]
    },
    {
     "data": {
      "text/plain": [
       "<matplotlib.text.Text at 0x2281dc3f4e0>"
      ]
     },
     "execution_count": 31,
     "metadata": {},
     "output_type": "execute_result"
    },
    {
     "data": {
      "image/png": "[encoded data removed]",
      "text/plain": [
       "<matplotlib.figure.Figure at 0x2284e472550>"
      ]
     },
     "metadata": {},
     "output_type": "display_data"
    }
   ],
   "source": [
    "print(\"Sexo Feminino:\")\n",
    "dados.V4742[dados.V0302 =='Feminino'].plot.box(figsize = (10,10) ) \n",
    "plt.axis([0, 3, 0, 10000])\n",
    "plt.ylabel(\"Renda\")"
   ]
  },
  {
   "cell_type": "markdown",
   "metadata": {},
   "source": [
    "## Comparação Anos de Estudo por Renda Domiciliar"
   ]
  },
  {
   "cell_type": "markdown",
   "metadata": {
    "collapsed": false
   },
   "source": [
    "## Gráficos de Disperção"
   ]
  },
  {
   "cell_type": "code",
   "execution_count": 32,
   "metadata": {
    "collapsed": false
   },
   "outputs": [
    {
     "name": "stdout",
     "output_type": "stream",
     "text": [
      "Sexo Masculino:\n"
     ]
    },
    {
     "data": {
      "image/png": "[encoded data removed]",
      "text/plain": [
       "<matplotlib.figure.Figure at 0x2285d622da0>"
      ]
     },
     "metadata": {},
     "output_type": "display_data"
    }
   ],
   "source": [
    "print('Sexo Masculino:')\n",
    "plt.scatter(dados.V4803[dados.V0302 == \"Masculino\"], dados.V4742[dados.V0302 == \"Masculino\"], c='red', alpha=0.8)\n",
    "plt.title('Anos de Estudo versus Renda')\n",
    "plt.xlabel('Anos de Estudo')\n",
    "plt.ylabel('Renda')\n",
    "plt.show()\n"
   ]
  },
  {
   "cell_type": "code",
   "execution_count": 33,
   "metadata": {
    "collapsed": false
   },
   "outputs": [
    {
     "name": "stdout",
     "output_type": "stream",
     "text": [
      "Sexo Feminino:\n"
     ]
    },
    {
     "data": {
      "image/png": "[encoded data removed]",
      "text/plain": [
       "<matplotlib.figure.Figure at 0x2281dc7ecc0>"
      ]
     },
     "metadata": {},
     "output_type": "display_data"
    }
   ],
   "source": [
    "print(\"Sexo Feminino:\")\n",
    "plt.scatter(dados.V4803[dados.V0302 == \"Feminino\"], dados.V4742[dados.V0302 == \"Feminino\"], c='red', alpha=0.8)\n",
    "plt.title('Anos de Estudo versus Renda')\n",
    "plt.xlabel('Anos de Estudo')\n",
    "plt.ylabel('Renda')\n",
    "plt.show()"
   ]
  },
  {
   "cell_type": "markdown",
   "metadata": {
    "collapsed": false
   },
   "source": [
    "## Ajuste linear"
   ]
  },
  {
   "cell_type": "code",
   "execution_count": 34,
   "metadata": {
    "collapsed": false
   },
   "outputs": [
    {
     "name": "stdout",
     "output_type": "stream",
     "text": [
      "Covariância entre Anos de Estudo e Renda: nan\n"
     ]
    }
   ],
   "source": [
    "print(\"Covariância entre Anos de Estudo e Renda:\",np.cov(dados.V4803[dados.V0302 == \"Masculino\"], dados.V4742[dados.V0302 == \"Masculino\"])[0,1])"
   ]
  },
  {
   "cell_type": "code",
   "execution_count": 35,
   "metadata": {
    "collapsed": false
   },
   "outputs": [
    {
     "name": "stdout",
     "output_type": "stream",
     "text": [
      "Covariância entre Anos de Estudo e Renda: nan\n"
     ]
    }
   ],
   "source": [
    "print(\"Covariância entre Anos de Estudo e Renda:\",np.cov(dados.V4803[dados.V0302 == \"Feminino\"], dados.V4742[dados.V0302 == \"Feminino\"])[0,1])"
   ]
  },
  {
   "cell_type": "code",
   "execution_count": 36,
   "metadata": {
    "collapsed": false
   },
   "outputs": [
    {
     "name": "stdout",
     "output_type": "stream",
     "text": [
      "Sexo Masculino:\n",
      "Ajuste linear entre Anos de Estudo e Renda:\n",
      "Coeficiente linear: 87.265777781\n",
      "Coeficiente angular: 121.524064767\n"
     ]
    },
    {
     "data": {
      "text/plain": [
       "[<matplotlib.lines.Line2D at 0x2284e445828>]"
      ]
     },
     "execution_count": 36,
     "metadata": {},
     "output_type": "execute_result"
    },
    {
     "data": {
      "image/png": "[encoded data removed]",
      "text/plain": [
       "<matplotlib.figure.Figure at 0x2281dfe9240>"
      ]
     },
     "metadata": {},
     "output_type": "display_data"
    }
   ],
   "source": [
    "# Regressão entre Anos de Estudo e Renda com ajuste linear\n",
    "print('Sexo Masculino:')\n",
    "a = dados.V4803[dados.V0302 == \"Masculino\"].cov(dados.V4742[dados.V0302 == \"Masculino\"]) / dados.V4803[dados.V0302 == \"Masculino\"].var()\n",
    "b = dados.V4742[dados.V0302 == \"Masculino\"].mean() - a*dados.V4803[dados.V0302 == \"Masculino\"].mean()\n",
    "\n",
    "print('Ajuste linear entre Anos de Estudo e Renda:')\n",
    "print('Coeficiente linear:', b)\n",
    "print('Coeficiente angular:', a)\n",
    "\n",
    "plt.scatter(dados.V4803[dados.V0302 == \"Masculino\"], dados.V4742[dados.V0302 == \"Masculino\"], c='red', alpha=0.8)\n",
    "plt.title('Anos de Estudo versus Renda')\n",
    "plt.xlabel('Anos de Estudo')\n",
    "plt.ylabel('Renda')\n",
    "\n",
    "import matplotlib.pyplot as plt\n",
    "plt.plot((dados.V4803[dados.V0302 == \"Masculino\"].min(), dados.V4803[dados.V0302 == \"Masculino\"].max()), (a*dados.V4803[dados.V0302 == \"Masculino\"].min()+b, a*dados.V4803[dados.V0302 == \"Masculino\"].max()+b), color='blue')"
   ]
  },
  {
   "cell_type": "code",
   "execution_count": 38,
   "metadata": {
    "collapsed": false
   },
   "outputs": [
    {
     "name": "stdout",
     "output_type": "stream",
     "text": [
      "Sexo Feminino:\n",
      "Ajuste linear entre Anos de Estudo e Renda:\n",
      "Coeficiente linear: 127.069007713\n",
      "Coeficiente angular: 105.838703681\n"
     ]
    }
   ],
   "source": [
    "# Regressão entre Anos de Estudo e Renda com ajuste linear\n",
    "print('Sexo Feminino:')\n",
    "a = dados.V4803[dados.V0302 == \"Feminino\"].cov(dados.V4742[dados.V0302 == \"Feminino\"]) / dados.V4803[dados.V0302 == \"Feminino\"].var()\n",
    "b = dados.V4742[dados.V0302 == \"Feminino\"].mean() - a*dados.V4803[dados.V0302 == \"Feminino\"].mean()\n",
    "\n",
    "print('Ajuste linear entre Anos de Estudo e Renda:')\n",
    "print('Coeficiente linear:', b)\n",
    "print('Coeficiente angular:', a)\n",
    "\n",
    "\n"
   ]
  },
  {
   "cell_type": "code",
   "execution_count": 41,
   "metadata": {
    "collapsed": false
   },
   "outputs": [
    {
     "data": {
      "text/plain": [
       "[<matplotlib.lines.Line2D at 0x2284f0f0940>]"
      ]
     },
     "execution_count": 41,
     "metadata": {},
     "output_type": "execute_result"
    },
    {
     "data": {
      "image/png": "[encoded data removed]",
      "text/plain": [
       "<matplotlib.figure.Figure at 0x2284f0f0898>"
      ]
     },
     "metadata": {},
     "output_type": "display_data"
    }
   ],
   "source": [
    "plt.scatter(dados.V4803[dados.V0302 == \"Feminino\"], dados.V4742[dados.V0302 == \"Feminino\"], c='red', alpha=0.8)\n",
    "plt.title('Anos de Estudo versus Renda')\n",
    "plt.xlabel('Anos de Estudo')\n",
    "plt.ylabel('Renda')\n",
    "\n",
    "import matplotlib.pyplot as plt\n",
    "plt.plot((dados.V4803[dados.V0302 == \"Feminino\"].min(), dados.V4803[dados.V0302 == \"Feminino\"].max()), (a*dados.V4803[dados.V0302 == \"Feminino\"].min()+b, a*dados.V4803[dados.V0302 == \"Feminino\"].max()+b), color='blue')"
   ]
  },
  {
   "cell_type": "markdown",
   "metadata": {
    "collapsed": true
   },
   "source": [
    "## Conclusão\n",
    "\n",
    "Atravéz das analises feitas ao longo do projeto notamos que as mulheres aposentadas possuem maiores taxas de anos de estudo, sendo que tendem a possuir maior rendimento que os homens aposentados, tal presuposto se torna mais evidente altos periodos de anos de estudo."
   ]
  }
 ],
 "metadata": {
  "kernelspec": {
   "display_name": "Python 3",
   "language": "python",
   "name": "python3"
  },
  "language_info": {
   "codemirror_mode": {
    "name": "ipython",
    "version": 3
   },
   "file_extension": ".py",
   "mimetype": "text/x-python",
   "name": "python",
   "nbconvert_exporter": "python",
   "pygments_lexer": "ipython3",
   "version": "3.5.1"
  }
 },
 "nbformat": 4,
 "nbformat_minor": 0
}
