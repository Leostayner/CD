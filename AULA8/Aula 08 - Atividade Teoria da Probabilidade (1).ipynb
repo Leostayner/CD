{
 "cells": [
  {
   "cell_type": "markdown",
   "metadata": {},
   "source": [
    "___\n",
    "# Atividade: Teoria da Probabilidade\n",
    "___\n",
    "\n",
    "## Aula 08\n",
    "\n",
    "**Referência de Leitura:**\n",
    "1. Magalhães e Lima (7ª. Edição): pág. 49 a 68 - Probabilidades\n",
    "\n",
    "**Hoje:**\n",
    "1. Conceito de Probabilidade\n",
    "4. Probabilidade Condicional\n",
    "3. Independência de eventos\n",
    "5. Teorema de Bayes. Simulação do problema de Monty Hall\n",
    "\n",
    "**Próxima aula:**\n",
    "1. Magalhães e Lima (7ª. Edição): pág. 69 a 104 - Variáveis aleatórias discretas\n",
    "___"
   ]
  },
  {
   "cell_type": "code",
   "execution_count": 4,
   "metadata": {
    "collapsed": true
   },
   "outputs": [],
   "source": [
    "%matplotlib inline\n",
    "import pandas as pd\n",
    "import matplotlib.pyplot as plt\n",
    "import numpy as np\n",
    "\n",
    "#Bibliotecas necessárias\n",
    "#from numpy.random import shuffle, randint, choice\n",
    "import random as rd"
   ]
  },
  {
   "cell_type": "markdown",
   "metadata": {},
   "source": [
    "## <font color='blue'>Exercício 1</font>\n",
    "\n",
    "Monte a simulação de 1000 jogadas de um dado idôneo de 6 faces. Faça o histograma (normalizado) da frequência.\n",
    "\n",
    "    a) Olhando o histograma, o que pode se dizer sobre as probabilidade de cada face?\n",
    "    \n",
    "    b) Discorra sobre o porque da probabilidade não ser exatamente igual à teórica."
   ]
  },
  {
   "cell_type": "code",
   "execution_count": 16,
   "metadata": {
    "collapsed": false
   },
   "outputs": [
    {
     "name": "stdout",
     "output_type": "stream",
     "text": [
      "\n"
     ]
    },
    {
     "data": {
      "image/png": "[encoded data removed]",
      "text/plain": [
       "<matplotlib.figure.Figure at 0x16fdaafe7b8>"
      ]
     },
     "metadata": {},
     "output_type": "display_data"
    }
   ],
   "source": [
    "l = []\n",
    "for i in range(1000):\n",
    "    l.append(rd.randint(1,6))\n",
    "\n",
    "print()    \n",
    "plt.hist(l,bins = np.arange(0.5,7,1), normed = 1)    \n",
    "plt.ylabel('Densidade')\n",
    "plt.show()\n",
    "\n"
   ]
  },
  {
   "cell_type": "markdown",
   "metadata": {},
   "source": [
    "___\n",
    "## <font color='blue'>Exercício 2</font>\n",
    "\n",
    "Ampliando o espaço amostral para as possíveis jogadas de 2 dados, analise as seguintes situações:\n",
    "    \n",
    "    a) Jogando os dois dados ao mesmo tempo. Qual é a probabilidade de obter soma 7?\n",
    "    \n",
    "    b) Jogando um dado e depois o segundo dado. Qual é a probabilidade de obter soma 7 já sabendo o resultado do primeiro? Compare o resultado com item anterior! Por que é igual ou diferente?"
   ]
  },
  {
   "cell_type": "code",
   "execution_count": 32,
   "metadata": {
    "collapsed": false
   },
   "outputs": [
    {
     "name": "stdout",
     "output_type": "stream",
     "text": [
      "A probabilidade de obter a soma 7 e: 16.666666666666668 %\n"
     ]
    }
   ],
   "source": [
    "#A\n",
    "ps = 0\n",
    "pn = 0\n",
    "l = [1,2,3,4,5,6]\n",
    "\n",
    "for i in l:\n",
    "    for j in l:\n",
    "        s = i+j\n",
    "        if s == 7:\n",
    "            ps += 1\n",
    "        else:\n",
    "            pn += 1\n",
    "\n",
    "ps = ps*100/(36)\n",
    "pn = pn*100/(36)\n",
    "\n",
    "print(\"A probabilidade de obter a soma 7 e:\",ps,\"%\")\n",
    "                \n",
    "\n",
    "\n",
    "      "
   ]
  },
  {
   "cell_type": "code",
   "execution_count": 42,
   "metadata": {
    "collapsed": false
   },
   "outputs": [
    {
     "name": "stdout",
     "output_type": "stream",
     "text": [
      "A probabilidade de obter a soma 7 e: 2.7777777777777777 %\n"
     ]
    }
   ],
   "source": [
    "#B\n",
    "ps = 0\n",
    "pn = 0\n",
    "\n",
    "for j in l:\n",
    "    s = 1+j\n",
    "    if s == 7:\n",
    "        ps += 1\n",
    "    else:\n",
    "        pn += 1\n",
    "\n",
    "ps = ps*100/(36)\n",
    "pn = pn*100/(36)\n",
    "\n",
    "print(\"A probabilidade de obter a soma 7 e:\",ps,\"%\")"
   ]
  },
  {
   "cell_type": "markdown",
   "metadata": {},
   "source": [
    "___\n",
    "## <font color='blue'>Exercício 3</font>\n",
    "\n",
    "Simule 10000 vezes o problema de Monty Hall¹ , usar o seguinte algoritmo:\n",
    "\n",
    "\n",
    "* Repetir 10000 vezes:\n",
    "    * Sorteie um número de porta de 1 a 3 para ser a premiada\n",
    "    * Sorteie um número de porta de 1 a 3 para ser a porta escolhida.\n",
    "    * Sorteie um número de porta para ser a aberta, desde que não seja a premiada e nem a porta escolhida. Assim, se:\n",
    "        * porta premiada é 1 e a escolhida é 1, sorteie entre as portas 2 e 3 para ser aberta\n",
    "        * porta premiada é 1 e a escolhida é 2, com probabilidade 1 deve abrir a porta 3\n",
    "        * porta premiada é 1 e a escolhida é 3, com probabilidade 1 deve abrir a porta 2\n",
    "        * assim para demais casos...\n",
    "    \n",
    "    * Calcule quantas vezes indivíduo ganha ao trocar de porta. Ou seja, se:\n",
    "        * porta premiada é 1, a escolhida é 1 e aberta é 2 (ou 3), indivíduo perde se trocar de porta\n",
    "        * porta premiada é 1, a escolhida é 2 e aberta é 3, indivíduo ganha se trocar de porta\n",
    "        * porta premiada é 1, a escolhida é 3 e aberta é 2, indivíduo ganha se trocar de porta\n",
    "        * assim para demais casos...\n",
    "        \n",
    "    * Exibir quantas vezes em 10000, o indivíduo ganhou ao trocar de porta.\n",
    "\n",
    "Compare o resultado numérico com o resultado analítico obtido via Teorema de Bayes.\n",
    "\n",
    "¹https://en.wikipedia.org/wiki/Monty_Hall_problem e \n",
    "Exercício 1.4.5 de http://www.portalaction.com.br/probabilidades/14-eventos-independentes-e-probabilidade-condicional"
   ]
  },
  {
   "cell_type": "code",
   "execution_count": 100,
   "metadata": {
    "collapsed": false
   },
   "outputs": [
    {
     "name": "stdout",
     "output_type": "stream",
     "text": [
      "O individuo teve uma porcentagem de ganho de : 66.58 %\n",
      "Tal resposta vai a encontro com o resultado analitico do Teorema de Bayes, visto que esse resultado equivale a aprocimadamente dois terços\n"
     ]
    }
   ],
   "source": [
    "def valorc(premiada,escolhida):\n",
    "    if escolhida == 1:\n",
    "        aberta = rd.shuffle([2,3])\n",
    "    elif escolhida == 2:\n",
    "        aberta = rd.shuffle([1,3])\n",
    "    else :\n",
    "        aberta = rd.shuffle([1,2])\n",
    "    return aberta\n",
    "\n",
    "def valorg(premiada,escolhida,aberta):\n",
    "    if  escolhida == premiada:\n",
    "        return 0\n",
    "    elif  (escolhida != premiada) and (aberta != premiada):\n",
    "        return 1\n",
    "    else:\n",
    "        return 0\n",
    "    \n",
    "g = 0     \n",
    "    \n",
    "for i in range(10000):\n",
    "    premiada = rd.randint(1,3)\n",
    "    escolhida = rd.randint(1,3)\n",
    "    aberta = valorc(premiada,escolhida)\n",
    "    g += valorg(premiada,escolhida,aberta)\n",
    "    \n",
    "print('O individuo teve uma porcentagem de ganho de :',g*100/10000,'%')\n",
    "print('Tal resposta vai a encontro com o resultado analitico do Teorema de Bayes, visto que esse resultado equivale a aprocimadamente dois terços')\n",
    "\n",
    "            "
   ]
  },
  {
   "cell_type": "code",
   "execution_count": null,
   "metadata": {
    "collapsed": true
   },
   "outputs": [],
   "source": []
  }
 ],
 "metadata": {
  "anaconda-cloud": {},
  "kernelspec": {
   "display_name": "Python 3",
   "language": "python",
   "name": "python3"
  },
  "language_info": {
   "codemirror_mode": {
    "name": "ipython",
    "version": 3
   },
   "file_extension": ".py",
   "mimetype": "text/x-python",
   "name": "python",
   "nbconvert_exporter": "python",
   "pygments_lexer": "ipython3",
   "version": "3.5.1"
  }
 },
 "nbformat": 4,
 "nbformat_minor": 0
}
