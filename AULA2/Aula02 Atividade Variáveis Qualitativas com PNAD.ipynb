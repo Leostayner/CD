{
 "cells": [
  {
   "cell_type": "markdown",
   "metadata": {},
   "source": [
    "___\n",
    "# Atividade: Variáveis qualitativas com a PNAD (ALUNOS)\n",
    "___\n",
    "\n",
    "## Aula 02\n",
    "\n",
    "\n",
    "**Link úteis:**\n",
    "1.\tLeitura prévia necessária: Magalhães e Lima (7ª. Edição): pág. 9 a 16 – destacando para variáveis qualitativas.\n",
    "2.\t10 Minutes to Pandas: http://pandas.pydata.org/pandas-docs/stable/10min.html\n",
    "3.\tEssential Basic Functionality: http://pandas.pydata.org/pandas-docs/stable/basics.html\n",
    "4.  Estude a aula `Aula02 Análise Exploratoria Variáveis Qualitativas-ALUNOS.ipynb`, o qual contém uma introdução ao Jupyter Notebook. A publicação dessa aula tem como objetivo auxiliá-lo, caso queira, no desenvolvimento dos seus próximos programas, como esta atividade.\n",
    "\n",
    "**Hoje:**\n",
    "1.\tAnalisar variáveis qualitativas de forma uni e bivariadas utilizando tabelas de frequências e gráficos de barras e de pizza (ou setor).\n",
    "2.  Trabalhar com a base de dados da PNAD 2013 - Pesquisa Nacional por Amostra de Domicílios\n",
    "\n",
    "**Próxima aula:**\n",
    "1.\tLeitura prévia necessária: Magalhães e Lima (7ª. Edição): pág. 9 a 17 – destacando para variáveis quantitativas; pág. 106 e 107 (Definição 4.1 e Exemplo 4.1).\n",
    "\n",
    "___\n"
   ]
  },
  {
   "cell_type": "markdown",
   "metadata": {},
   "source": [
    "___\n",
    "## <font color='blue'>PNAD 2013 – PESQUISA NACIONAL POR AMOSTRA DE DOMICÍLIOS</font>\n",
    "\n",
    "**Base de dados reduzida: ** `pes2013A.txt` (75 MB)\n",
    "[Acesse a base de dados aqui: https://dl.dropboxusercontent.com/u/65763596/Aula02/pes2013A.txt] \n",
    "\n",
    "**Dicionário das variáveis: ** `Dicionário de variáveis de pessoas - PNAD 2013.xlsx`\n",
    "[Acesse dicionário aqui: https://dl.dropboxusercontent.com/u/65763596/Aula02/Dicion%C3%A1rio%20de%20vari%C3%A1veis%20de%20pessoas%20-%20PNAD%202013.xls]\n",
    "\n",
    "\n",
    "Muitos especialistas na área de negócios dizem que empresários mais bem sucedidos são aqueles que fazem um planejamento antes de começar seu próprio negócio. Nessa visão, imagine que o Sr. Gold tenha como grande objetivo abrir uma nova faculdade e para isso deseja estudar o perfil do estudante que cursa ensino médio ou pré-vestibular e do que cursa ensino superior. \n",
    "\n",
    "Assuma que as variáveis de interesse a respeito dos estudantes sejam relativamente as mesmas de 2013 até o momento atual. Nesse caso, seja criativo para ajudar o Sr. Gold que deseja abrir seu negócio, mas não tem certeza sobre quais variáveis o interessam. \n",
    "\n",
    "Vocês podem ajudá-lo?!  \n",
    "\n",
    "As variáveis a seguir devem fazer parte da sua análise:\n",
    "\n",
    "* V0302: sexo\n",
    "* V0404: cor ou raça\n",
    "* V6002: rede de ensino\n",
    "* V4802: nível de ensino e grupos de séries do ensino fundamental que frequentavam (todos os estudantes)\n",
    "\n",
    "** Crie uma variável com região do indivíduo amostrado considerando a variável `UF` que define o estado e também trabalhe com essa nova variável em suas análises. ** \n",
    "\n",
    "** Escolha mais pelo menos DUAS variáveis qualitativas para completar sua análise!! **\n",
    "\n",
    "Faça uma análise exploratória apenas com as variáveis qualitativas com foco no objetivo do Sr. Gold.\n",
    "\n",
    "Sua análise deve conter pelo menos uma das seguintes visualizações:\n",
    "\n",
    "1. Gráfico de colunas (bar) e setor (pie) com as frequências relativas cadas categorias das variáveis qualitativas.\n",
    "2. Tabela cruzada entre pares de variaveis qualitativas. Montar o gráfico de colunas. Repetir o processo habilitando a opção \"stacked=True\".\n",
    "\n",
    "\n",
    "___\n",
    "\n",
    "\n",
    "<font color='red'>\n",
    "Crie um repositório chamado CD em seu Github\n",
    "</font>\n",
    "\n",
    "\n",
    "Neste repositório, salve seu trabalho numa pasta chamada aula2\n",
    "\n",
    "Por exemplo, se seu login for *pikachu* o projeto vai estar na pasta:\n",
    "\n",
    "https://github.com/<font color=red>pikachu/CD/aula2</font>\n",
    "\n",
    "\n",
    "\n",
    "## <font color='red'>Terça-feira (dia 16/08), no horário de atendimento da sua turma, deverá apresentar aos NINJAS!!</font>\n",
    "___"
   ]
  },
  {
   "cell_type": "code",
   "execution_count": 545,
   "metadata": {
    "collapsed": false
   },
   "outputs": [],
   "source": [
    "%matplotlib inline\n",
    "import pandas as pd\n",
    "import matplotlib.pyplot as plt\n",
    "import os\n",
    "import numpy as np"
   ]
  },
  {
   "cell_type": "code",
   "execution_count": 546,
   "metadata": {
    "collapsed": false
   },
   "outputs": [
    {
     "name": "stdout",
     "output_type": "stream",
     "text": [
      "Esperamos trabalhar no diretório\n",
      "C:\\Users\\leo_v\\Desktop\\Insper\\Ciencias dos Dados\\Aula 2\n"
     ]
    }
   ],
   "source": [
    "print('Esperamos trabalhar no diretório')\n",
    "print(os.getcwd())"
   ]
  },
  {
   "cell_type": "code",
   "execution_count": 547,
   "metadata": {
    "collapsed": false
   },
   "outputs": [
    {
     "data": {
      "text/html": [
       "<div>\n",
       "<table border=\"1\" class=\"dataframe\">\n",
       "  <thead>\n",
       "    <tr style=\"text-align: right;\">\n",
       "      <th></th>\n",
       "      <th>V0302</th>\n",
       "      <th>V0404</th>\n",
       "      <th>V6002</th>\n",
       "      <th>V4802</th>\n",
       "      <th>UF</th>\n",
       "      <th>V4704</th>\n",
       "      <th>V0601</th>\n",
       "      <th>V8005</th>\n",
       "      <th>V4750</th>\n",
       "    </tr>\n",
       "  </thead>\n",
       "  <tbody>\n",
       "    <tr>\n",
       "      <th>0</th>\n",
       "      <td>4</td>\n",
       "      <td>2</td>\n",
       "      <td>NaN</td>\n",
       "      <td>NaN</td>\n",
       "      <td>11</td>\n",
       "      <td>2</td>\n",
       "      <td>1</td>\n",
       "      <td>42</td>\n",
       "      <td>350</td>\n",
       "    </tr>\n",
       "    <tr>\n",
       "      <th>1</th>\n",
       "      <td>4</td>\n",
       "      <td>8</td>\n",
       "      <td>NaN</td>\n",
       "      <td>NaN</td>\n",
       "      <td>11</td>\n",
       "      <td>2</td>\n",
       "      <td>3</td>\n",
       "      <td>64</td>\n",
       "      <td>339</td>\n",
       "    </tr>\n",
       "    <tr>\n",
       "      <th>2</th>\n",
       "      <td>4</td>\n",
       "      <td>4</td>\n",
       "      <td>2</td>\n",
       "      <td>8</td>\n",
       "      <td>11</td>\n",
       "      <td>2</td>\n",
       "      <td>1</td>\n",
       "      <td>13</td>\n",
       "      <td>339</td>\n",
       "    </tr>\n",
       "    <tr>\n",
       "      <th>3</th>\n",
       "      <td>2</td>\n",
       "      <td>8</td>\n",
       "      <td>NaN</td>\n",
       "      <td>NaN</td>\n",
       "      <td>11</td>\n",
       "      <td>1</td>\n",
       "      <td>1</td>\n",
       "      <td>23</td>\n",
       "      <td>266</td>\n",
       "    </tr>\n",
       "    <tr>\n",
       "      <th>4</th>\n",
       "      <td>4</td>\n",
       "      <td>8</td>\n",
       "      <td>4</td>\n",
       "      <td>11</td>\n",
       "      <td>11</td>\n",
       "      <td>2</td>\n",
       "      <td>1</td>\n",
       "      <td>19</td>\n",
       "      <td>266</td>\n",
       "    </tr>\n",
       "  </tbody>\n",
       "</table>\n",
       "</div>"
      ],
      "text/plain": [
       "   V0302  V0404  V6002  V4802  UF  V4704  V0601  V8005  V4750\n",
       "0      4      2    NaN    NaN  11      2      1     42    350\n",
       "1      4      8    NaN    NaN  11      2      3     64    339\n",
       "2      4      4      2      8  11      2      1     13    339\n",
       "3      2      8    NaN    NaN  11      1      1     23    266\n",
       "4      4      8      4     11  11      2      1     19    266"
      ]
     },
     "execution_count": 547,
     "metadata": {},
     "output_type": "execute_result"
    }
   ],
   "source": [
    "dados = pd.read_excel(\"Gold.xlsx\")\n",
    "dados.head()"
   ]
  },
  {
   "cell_type": "code",
   "execution_count": 548,
   "metadata": {
    "collapsed": false
   },
   "outputs": [
    {
     "data": {
      "text/plain": [
       "['V0302', 'V0404', 'V6002', 'V4802', 'UF', 'V4704', 'V0601', 'V8005', 'V4750']"
      ]
     },
     "execution_count": 548,
     "metadata": {},
     "output_type": "execute_result"
    }
   ],
   "source": [
    "dados.shape\n",
    "n = dados.shape[0]\n",
    "list(dados)"
   ]
  },
  {
   "cell_type": "code",
   "execution_count": 598,
   "metadata": {
    "collapsed": false
   },
   "outputs": [
    {
     "name": "stderr",
     "output_type": "stream",
     "text": [
      "C:\\Users\\leo_v\\Anaconda3\\lib\\site-packages\\ipykernel\\__main__.py:2: SettingWithCopyWarning: \n",
      "A value is trying to be set on a copy of a slice from a DataFrame\n",
      "\n",
      "See the caveats in the documentation: http://pandas.pydata.org/pandas-docs/stable/indexing.html#indexing-view-versus-copy\n",
      "  from ipykernel import kernelapp as app\n",
      "C:\\Users\\leo_v\\Anaconda3\\lib\\site-packages\\ipykernel\\__main__.py:3: SettingWithCopyWarning: \n",
      "A value is trying to be set on a copy of a slice from a DataFrame\n",
      "\n",
      "See the caveats in the documentation: http://pandas.pydata.org/pandas-docs/stable/indexing.html#indexing-view-versus-copy\n",
      "  app.launch_new_instance()\n",
      "C:\\Users\\leo_v\\Anaconda3\\lib\\site-packages\\ipykernel\\__main__.py:4: SettingWithCopyWarning: \n",
      "A value is trying to be set on a copy of a slice from a DataFrame\n",
      "\n",
      "See the caveats in the documentation: http://pandas.pydata.org/pandas-docs/stable/indexing.html#indexing-view-versus-copy\n",
      "C:\\Users\\leo_v\\Anaconda3\\lib\\site-packages\\ipykernel\\__main__.py:5: SettingWithCopyWarning: \n",
      "A value is trying to be set on a copy of a slice from a DataFrame\n",
      "\n",
      "See the caveats in the documentation: http://pandas.pydata.org/pandas-docs/stable/indexing.html#indexing-view-versus-copy\n",
      "C:\\Users\\leo_v\\Anaconda3\\lib\\site-packages\\ipykernel\\__main__.py:6: SettingWithCopyWarning: \n",
      "A value is trying to be set on a copy of a slice from a DataFrame\n",
      "\n",
      "See the caveats in the documentation: http://pandas.pydata.org/pandas-docs/stable/indexing.html#indexing-view-versus-copy\n"
     ]
    }
   ],
   "source": [
    "dados[\"regiao\"] = dados.UF\n",
    "dados.regiao[(dados.UF == 11)| (dados.UF == 12)| (dados.UF == 13)| (dados.UF == 14)| (dados.UF == 15)| (dados.UF == 16)| (dados.UF == 17)] = \"Norte\"\n",
    "dados.regiao[(dados.UF == 21)| (dados.UF == 22)| (dados.UF == 23)| (dados.UF == 24)| (dados.UF == 25)| (dados.UF == 26)| (dados.UF == 27)| (dados.UF == 28)| (dados.UF == 29)] = 'Nordeste'\n",
    "dados.regiao[(dados.UF == 31)| (dados.UF == 32)| (dados.UF == 33)| (dados.UF == 35)] = \"Sudeste\"\n",
    "dados.regiao[(dados.UF == 41)| (dados.UF == 42)| (dados.UF == 43)] = \"Sul\"\n",
    "dados.regiao[(dados.UF == 50)| (dados.UF == 51)| (dados.UF == 52) | (dados.UF == 53)] = \"Centro Oeste\"   "
   ]
  },
  {
   "cell_type": "code",
   "execution_count": 550,
   "metadata": {
    "collapsed": false
   },
   "outputs": [],
   "source": [
    "list(dados)\n",
    "dados.V0302 = dados.V0302.astype('category')\n",
    "dados.V0404 = dados.V0404.astype('category')\n",
    "dados.V6002 = dados.V6002.astype('category')\n",
    "dados.V4802 = dados.V4802.astype('category')\n",
    "dados.V4704 = dados.V4704.astype('category')\n",
    "dados.V8000 = dados.V8005.astype('float')\n",
    "dados.V4750 = dados.V4750.astype('float')\n",
    "dados.V0601 = dados.V0601.astype(\"category\")"
   ]
  },
  {
   "cell_type": "code",
   "execution_count": null,
   "metadata": {
    "collapsed": true
   },
   "outputs": [],
   "source": []
  },
  {
   "cell_type": "code",
   "execution_count": null,
   "metadata": {
    "collapsed": true
   },
   "outputs": [],
   "source": []
  },
  {
   "cell_type": "code",
   "execution_count": null,
   "metadata": {
    "collapsed": false
   },
   "outputs": [],
   "source": [
    "  \n",
    "             "
   ]
  },
  {
   "cell_type": "code",
   "execution_count": 551,
   "metadata": {
    "collapsed": false
   },
   "outputs": [],
   "source": [
    "dados.V0302.cat.categories = [\"Feminino\",\"Masculino\"]\n",
    "dados.V0404.cat.categories = [\"Indigena\",\"Preta\",'Amarela','Parda','Branca','Sem Declaração']\n",
    "dados.V6002.cat.categories = [\"Publica\",\"Privada\"]\n",
    "dados.V4704.cat.categories = [\"Economicamente Ativa\",\"Não Economicamente Ativa\"]\n",
    "dados.V0601.cat.categories = [\"Sim\",\"Não\"]\n",
    "\n"
   ]
  },
  {
   "cell_type": "code",
   "execution_count": 600,
   "metadata": {
    "collapsed": false
   },
   "outputs": [
    {
     "name": "stdout",
     "output_type": "stream",
     "text": [
      "Genero\n",
      "Feminino     0.5\n",
      "Masculino    0.5\n",
      "dtype: float64 \n",
      "\n",
      "Cor ou raça\n",
      "Indigena          0.0\n",
      "Preta             0.4\n",
      "Amarela           0.1\n",
      "Parda             0.0\n",
      "Branca            0.5\n",
      "Sem Declaração    0.0\n",
      "dtype: float64 \n",
      "\n",
      "Nivel de Ensino\n",
      "1     0.0\n",
      "2     0.0\n",
      "4     0.0\n",
      "5     0.0\n",
      "6     0.0\n",
      "7     0.1\n",
      "8     0.1\n",
      "9     0.0\n",
      "10    0.0\n",
      "11    0.0\n",
      "dtype: float64 \n",
      "\n",
      "Participação Economica\n",
      "Economicamente Ativa        0.5\n",
      "Não Economicamente Ativa    0.3\n",
      "dtype: float64 \n",
      "\n",
      "rede de Ensino\n",
      "Publica    0.2\n",
      "Privada    0.1\n",
      "dtype: float64 \n",
      "\n",
      "\n",
      "Norte           0.2\n",
      "Nordeste        0.3\n",
      "Sudeste         0.3\n",
      "Sul             0.2\n",
      "Centro Oeste    0.1\n",
      "Name: regiao, dtype: float64 \n",
      "\n",
      "Sim    0.8\n",
      "Não    0.2\n",
      "dtype: float64\n"
     ]
    },
    {
     "name": "stderr",
     "output_type": "stream",
     "text": [
      "C:\\Users\\leo_v\\Anaconda3\\lib\\site-packages\\pandas\\core\\index.py:3157: RuntimeWarning: Values and categories have different dtypes. Did you mean to use\n",
      "'Categorical.from_codes(codes, categories)'?\n",
      "  data = Categorical(data, categories=categories, ordered=ordered)\n"
     ]
    }
   ],
   "source": [
    "print('Genero')\n",
    "D1 = dados.V0302.value_counts(True).round(decimals = 1).reindex([\"Feminino\",\"Masculino\"])\n",
    "print(D1,\"\\n\")\n",
    "\n",
    "print('Cor ou raça')\n",
    "D2 = dados.V0404.value_counts(True).round(decimals = 1).reindex([\"Indigena\",\"Preta\",'Amarela','Parda','Branca','Sem Declaração'])\n",
    "print(D2,\"\\n\")\n",
    "\n",
    "print('Nivel de Ensino')\n",
    "D3 = dados.V4802.value_counts(True).round(decimals = 1).reindex([1,2,4,5,6,7,8,9,10,11])\n",
    "print(D3,\"\\n\")\n",
    "\n",
    "print('Participação Economica')\n",
    "D4 = dados.V4704.value_counts(True).round(decimals = 1).reindex([\"Economicamente Ativa\",\"Não Economicamente Ativa\"])\n",
    "print(D4,\"\\n\")\n",
    "\n",
    "print(\"rede de Ensino\")\n",
    "D5 = dados.V6002.value_counts(True).round(decimals = 1).reindex([\"Publica\",\"Privada\"])\n",
    "print(D5,\"\\n\")\n",
    "\n",
    "print()\n",
    "D6 = dados.regiao.value_counts(True).round(decimals = 1).reindex([\"Norte\",\"Nordeste\",\"Sudeste\",\"Sul\",\"Centro Oeste\"])\n",
    "print(D6,\"\\n\")\n",
    "\n",
    "\n",
    "D7 = dados.V0601.value_counts(True).round(decimals = 1).reindex(['Sim','Não'])\n",
    "print(D7)"
   ]
  },
  {
   "cell_type": "code",
   "execution_count": 553,
   "metadata": {
    "collapsed": false,
    "scrolled": false
   },
   "outputs": [
    {
     "data": {
      "text/plain": [
       "<matplotlib.text.Text at 0x21a00e17550>"
      ]
     },
     "execution_count": 553,
     "metadata": {},
     "output_type": "execute_result"
    },
    {
     "data": {
      "image/png": "[encoded data removed]",
      "text/plain": [
       "<matplotlib.figure.Figure at 0x21a6865da58>"
      ]
     },
     "metadata": {},
     "output_type": "display_data"
    }
   ],
   "source": [
    "plot = D1.plot(kind = \"bar\",title = \"frequencia de Genero\",figsize = (6,6), color = ('b','g'))\n",
    "plt.ylabel(\"genero\")\n",
    "plt.xlabel(\"frequencia\")"
   ]
  },
  {
   "cell_type": "code",
   "execution_count": 554,
   "metadata": {
    "collapsed": false
   },
   "outputs": [
    {
     "data": {
      "text/html": [
       "<div>\n",
       "<table border=\"1\" class=\"dataframe\">\n",
       "  <thead>\n",
       "    <tr style=\"text-align: right;\">\n",
       "      <th>Cor ou raça</th>\n",
       "      <th>Indigena</th>\n",
       "      <th>Preta</th>\n",
       "      <th>Amarela</th>\n",
       "      <th>Parda</th>\n",
       "      <th>Branca</th>\n",
       "      <th>Sem Declaração</th>\n",
       "      <th>All</th>\n",
       "    </tr>\n",
       "    <tr>\n",
       "      <th>Sexo</th>\n",
       "      <th></th>\n",
       "      <th></th>\n",
       "      <th></th>\n",
       "      <th></th>\n",
       "      <th></th>\n",
       "      <th></th>\n",
       "      <th></th>\n",
       "    </tr>\n",
       "  </thead>\n",
       "  <tbody>\n",
       "    <tr>\n",
       "      <th>Feminino</th>\n",
       "      <td>810</td>\n",
       "      <td>73177</td>\n",
       "      <td>15307</td>\n",
       "      <td>648</td>\n",
       "      <td>86156</td>\n",
       "      <td>4</td>\n",
       "      <td>176102</td>\n",
       "    </tr>\n",
       "    <tr>\n",
       "      <th>Masculino</th>\n",
       "      <td>878</td>\n",
       "      <td>82041</td>\n",
       "      <td>14823</td>\n",
       "      <td>823</td>\n",
       "      <td>87886</td>\n",
       "      <td>2</td>\n",
       "      <td>186453</td>\n",
       "    </tr>\n",
       "    <tr>\n",
       "      <th>All</th>\n",
       "      <td>1688</td>\n",
       "      <td>155218</td>\n",
       "      <td>30130</td>\n",
       "      <td>1471</td>\n",
       "      <td>174042</td>\n",
       "      <td>6</td>\n",
       "      <td>362555</td>\n",
       "    </tr>\n",
       "  </tbody>\n",
       "</table>\n",
       "</div>"
      ],
      "text/plain": [
       "Cor ou raça  Indigena   Preta  Amarela  Parda  Branca  Sem Declaração     All\n",
       "Sexo                                                                         \n",
       "Feminino          810   73177    15307    648   86156               4  176102\n",
       "Masculino         878   82041    14823    823   87886               2  186453\n",
       "All              1688  155218    30130   1471  174042               6  362555"
      ]
     },
     "execution_count": 554,
     "metadata": {},
     "output_type": "execute_result"
    }
   ],
   "source": [
    "ct = pd.crosstab(dados.V0302,dados.V0404,margins = True ,rownames = [\"Sexo\"],colnames = [\"Cor ou raça\"])\n",
    "ct = ct.loc[[\"Feminino\",'Masculino','All']]\n",
    "ct\n",
    "\n"
   ]
  },
  {
   "cell_type": "code",
   "execution_count": 555,
   "metadata": {
    "collapsed": false
   },
   "outputs": [
    {
     "data": {
      "text/html": [
       "<div>\n",
       "<table border=\"1\" class=\"dataframe\">\n",
       "  <thead>\n",
       "    <tr style=\"text-align: right;\">\n",
       "      <th></th>\n",
       "      <th>Indigena</th>\n",
       "      <th>Preta</th>\n",
       "      <th>Amarela</th>\n",
       "      <th>Parda</th>\n",
       "      <th>Branca</th>\n",
       "      <th>Sem Declaração</th>\n",
       "      <th>All</th>\n",
       "    </tr>\n",
       "    <tr>\n",
       "      <th>Sexo</th>\n",
       "      <th></th>\n",
       "      <th></th>\n",
       "      <th></th>\n",
       "      <th></th>\n",
       "      <th></th>\n",
       "      <th></th>\n",
       "      <th></th>\n",
       "    </tr>\n",
       "  </thead>\n",
       "  <tbody>\n",
       "    <tr>\n",
       "      <th>Feminino</th>\n",
       "      <td>0</td>\n",
       "      <td>20</td>\n",
       "      <td>4</td>\n",
       "      <td>0</td>\n",
       "      <td>24</td>\n",
       "      <td>0</td>\n",
       "      <td>49</td>\n",
       "    </tr>\n",
       "    <tr>\n",
       "      <th>Masculino</th>\n",
       "      <td>0</td>\n",
       "      <td>23</td>\n",
       "      <td>4</td>\n",
       "      <td>0</td>\n",
       "      <td>24</td>\n",
       "      <td>0</td>\n",
       "      <td>51</td>\n",
       "    </tr>\n",
       "    <tr>\n",
       "      <th>All</th>\n",
       "      <td>0</td>\n",
       "      <td>43</td>\n",
       "      <td>8</td>\n",
       "      <td>0</td>\n",
       "      <td>48</td>\n",
       "      <td>0</td>\n",
       "      <td>100</td>\n",
       "    </tr>\n",
       "  </tbody>\n",
       "</table>\n",
       "</div>"
      ],
      "text/plain": [
       "           Indigena  Preta  Amarela  Parda  Branca  Sem Declaração  All\n",
       "Sexo                                                                   \n",
       "Feminino          0     20        4      0      24               0   49\n",
       "Masculino         0     23        4      0      24               0   51\n",
       "All               0     43        8      0      48               0  100"
      ]
     },
     "execution_count": 555,
     "metadata": {},
     "output_type": "execute_result"
    }
   ],
   "source": [
    "ct1 = (ct/len(dados)*100).round(decimals=0)\n",
    "ct1"
   ]
  },
  {
   "cell_type": "code",
   "execution_count": 556,
   "metadata": {
    "collapsed": false
   },
   "outputs": [
    {
     "data": {
      "text/plain": [
       "<matplotlib.text.Text at 0x21a540917f0>"
      ]
     },
     "execution_count": 556,
     "metadata": {},
     "output_type": "execute_result"
    },
    {
     "data": {
      "image/png": "[encoded data removed]",
      "text/plain": [
       "<matplotlib.figure.Figure at 0x21a5752ad68>"
      ]
     },
     "metadata": {},
     "output_type": "display_data"
    }
   ],
   "source": [
    "ct1 = ct1.iloc[0:2,]\n",
    "plot = ct1.plot(kind='bar',figsize = (10,10))\n",
    "plt.ylabel('Freq.Relativa (em%)')"
   ]
  },
  {
   "cell_type": "code",
   "execution_count": 557,
   "metadata": {
    "collapsed": false
   },
   "outputs": [
    {
     "data": {
      "text/html": [
       "<div>\n",
       "<table border=\"1\" class=\"dataframe\">\n",
       "  <thead>\n",
       "    <tr style=\"text-align: right;\">\n",
       "      <th>cor ou raçã</th>\n",
       "      <th>Indigena</th>\n",
       "      <th>Preta</th>\n",
       "      <th>Amarela</th>\n",
       "      <th>Parda</th>\n",
       "      <th>Branca</th>\n",
       "      <th>Sem Declaração</th>\n",
       "      <th>All</th>\n",
       "    </tr>\n",
       "    <tr>\n",
       "      <th>Rede de Ensino</th>\n",
       "      <th></th>\n",
       "      <th></th>\n",
       "      <th></th>\n",
       "      <th></th>\n",
       "      <th></th>\n",
       "      <th></th>\n",
       "      <th></th>\n",
       "    </tr>\n",
       "  </thead>\n",
       "  <tbody>\n",
       "    <tr>\n",
       "      <th>Publica</th>\n",
       "      <td>532</td>\n",
       "      <td>28002</td>\n",
       "      <td>5696</td>\n",
       "      <td>206</td>\n",
       "      <td>43519</td>\n",
       "      <td>0</td>\n",
       "      <td>77955</td>\n",
       "    </tr>\n",
       "    <tr>\n",
       "      <th>Privada</th>\n",
       "      <td>47</td>\n",
       "      <td>14044</td>\n",
       "      <td>1417</td>\n",
       "      <td>140</td>\n",
       "      <td>9541</td>\n",
       "      <td>0</td>\n",
       "      <td>25189</td>\n",
       "    </tr>\n",
       "    <tr>\n",
       "      <th>All</th>\n",
       "      <td>1688</td>\n",
       "      <td>155218</td>\n",
       "      <td>30130</td>\n",
       "      <td>1471</td>\n",
       "      <td>174042</td>\n",
       "      <td>6</td>\n",
       "      <td>362555</td>\n",
       "    </tr>\n",
       "  </tbody>\n",
       "</table>\n",
       "</div>"
      ],
      "text/plain": [
       "cor ou raçã     Indigena   Preta  Amarela  Parda  Branca  Sem Declaração  \\\n",
       "Rede de Ensino                                                             \n",
       "Publica              532   28002     5696    206   43519               0   \n",
       "Privada               47   14044     1417    140    9541               0   \n",
       "All                 1688  155218    30130   1471  174042               6   \n",
       "\n",
       "cor ou raçã        All  \n",
       "Rede de Ensino          \n",
       "Publica          77955  \n",
       "Privada          25189  \n",
       "All             362555  "
      ]
     },
     "execution_count": 557,
     "metadata": {},
     "output_type": "execute_result"
    }
   ],
   "source": [
    "ct = pd.crosstab(dados.V6002,dados.V0404,margins = True, rownames = ['Rede de Ensino'],colnames = ['cor ou raçã'])\n",
    "ct = ct.loc[['Publica','Privada','All']]\n",
    "ct"
   ]
  },
  {
   "cell_type": "code",
   "execution_count": 558,
   "metadata": {
    "collapsed": false
   },
   "outputs": [
    {
     "data": {
      "text/html": [
       "<div>\n",
       "<table border=\"1\" class=\"dataframe\">\n",
       "  <thead>\n",
       "    <tr style=\"text-align: right;\">\n",
       "      <th></th>\n",
       "      <th>Indigena</th>\n",
       "      <th>Preta</th>\n",
       "      <th>Amarela</th>\n",
       "      <th>Parda</th>\n",
       "      <th>Branca</th>\n",
       "      <th>Sem Declaração</th>\n",
       "      <th>All</th>\n",
       "    </tr>\n",
       "    <tr>\n",
       "      <th>Rede de Ensino</th>\n",
       "      <th></th>\n",
       "      <th></th>\n",
       "      <th></th>\n",
       "      <th></th>\n",
       "      <th></th>\n",
       "      <th></th>\n",
       "      <th></th>\n",
       "    </tr>\n",
       "  </thead>\n",
       "  <tbody>\n",
       "    <tr>\n",
       "      <th>Publica</th>\n",
       "      <td>0</td>\n",
       "      <td>8</td>\n",
       "      <td>2</td>\n",
       "      <td>0</td>\n",
       "      <td>12</td>\n",
       "      <td>0</td>\n",
       "      <td>22</td>\n",
       "    </tr>\n",
       "    <tr>\n",
       "      <th>Privada</th>\n",
       "      <td>0</td>\n",
       "      <td>4</td>\n",
       "      <td>0</td>\n",
       "      <td>0</td>\n",
       "      <td>3</td>\n",
       "      <td>0</td>\n",
       "      <td>7</td>\n",
       "    </tr>\n",
       "    <tr>\n",
       "      <th>All</th>\n",
       "      <td>0</td>\n",
       "      <td>43</td>\n",
       "      <td>8</td>\n",
       "      <td>0</td>\n",
       "      <td>48</td>\n",
       "      <td>0</td>\n",
       "      <td>100</td>\n",
       "    </tr>\n",
       "  </tbody>\n",
       "</table>\n",
       "</div>"
      ],
      "text/plain": [
       "                Indigena  Preta  Amarela  Parda  Branca  Sem Declaração  All\n",
       "Rede de Ensino                                                              \n",
       "Publica                0      8        2      0      12               0   22\n",
       "Privada                0      4        0      0       3               0    7\n",
       "All                    0     43        8      0      48               0  100"
      ]
     },
     "execution_count": 558,
     "metadata": {},
     "output_type": "execute_result"
    }
   ],
   "source": [
    "ct1=(ct/len(dados)*100).round(decimals=0)\n",
    "ct1       "
   ]
  },
  {
   "cell_type": "code",
   "execution_count": 559,
   "metadata": {
    "collapsed": false
   },
   "outputs": [
    {
     "data": {
      "text/plain": [
       "<matplotlib.text.Text at 0x21a56caccf8>"
      ]
     },
     "execution_count": 559,
     "metadata": {},
     "output_type": "execute_result"
    },
    {
     "data": {
      "image/png": "[encoded data removed]",
      "text/plain": [
       "<matplotlib.figure.Figure at 0x21a56967ba8>"
      ]
     },
     "metadata": {},
     "output_type": "display_data"
    }
   ],
   "source": [
    "ct1 = ct1.iloc[0:2,]\n",
    "plot = ct1.plot(kind = \"bar\",figsize= (8,8))\n",
    "plt.ylabel('Freq.Relativa (em%)')"
   ]
  },
  {
   "cell_type": "code",
   "execution_count": 560,
   "metadata": {
    "collapsed": false
   },
   "outputs": [
    {
     "name": "stdout",
     "output_type": "stream",
     "text": [
      "economiaxraça\n"
     ]
    },
    {
     "data": {
      "text/html": [
       "<div>\n",
       "<table border=\"1\" class=\"dataframe\">\n",
       "  <thead>\n",
       "    <tr style=\"text-align: right;\">\n",
       "      <th>cor ou raçã</th>\n",
       "      <th>Indigena</th>\n",
       "      <th>Preta</th>\n",
       "      <th>Amarela</th>\n",
       "      <th>Parda</th>\n",
       "      <th>Branca</th>\n",
       "      <th>Sem Declaração</th>\n",
       "      <th>All</th>\n",
       "    </tr>\n",
       "    <tr>\n",
       "      <th>Participação Economica</th>\n",
       "      <th></th>\n",
       "      <th></th>\n",
       "      <th></th>\n",
       "      <th></th>\n",
       "      <th></th>\n",
       "      <th></th>\n",
       "      <th></th>\n",
       "    </tr>\n",
       "  </thead>\n",
       "  <tbody>\n",
       "    <tr>\n",
       "      <th>Economicamente Ativa</th>\n",
       "      <td>772</td>\n",
       "      <td>79661</td>\n",
       "      <td>17280</td>\n",
       "      <td>803</td>\n",
       "      <td>86394</td>\n",
       "      <td>6</td>\n",
       "      <td>184916</td>\n",
       "    </tr>\n",
       "    <tr>\n",
       "      <th>Não Economicamente Ativa</th>\n",
       "      <td>540</td>\n",
       "      <td>53368</td>\n",
       "      <td>10078</td>\n",
       "      <td>529</td>\n",
       "      <td>61088</td>\n",
       "      <td>0</td>\n",
       "      <td>125603</td>\n",
       "    </tr>\n",
       "    <tr>\n",
       "      <th>All</th>\n",
       "      <td>1688</td>\n",
       "      <td>155218</td>\n",
       "      <td>30130</td>\n",
       "      <td>1471</td>\n",
       "      <td>174042</td>\n",
       "      <td>6</td>\n",
       "      <td>362555</td>\n",
       "    </tr>\n",
       "  </tbody>\n",
       "</table>\n",
       "</div>"
      ],
      "text/plain": [
       "cor ou raçã               Indigena   Preta  Amarela  Parda  Branca  \\\n",
       "Participação Economica                                               \n",
       "Economicamente Ativa           772   79661    17280    803   86394   \n",
       "Não Economicamente Ativa       540   53368    10078    529   61088   \n",
       "All                           1688  155218    30130   1471  174042   \n",
       "\n",
       "cor ou raçã               Sem Declaração     All  \n",
       "Participação Economica                            \n",
       "Economicamente Ativa                   6  184916  \n",
       "Não Economicamente Ativa               0  125603  \n",
       "All                                    6  362555  "
      ]
     },
     "execution_count": 560,
     "metadata": {},
     "output_type": "execute_result"
    }
   ],
   "source": [
    "print('economiaxraça')\n",
    "ct = pd.crosstab(dados.V4704,dados.V0404,margins = True, rownames = ['Participação Economica'],colnames = ['cor ou raçã'])\n",
    "ct = ct.loc[[\"Economicamente Ativa\",\"Não Economicamente Ativa\",'All']]\n",
    "ct"
   ]
  },
  {
   "cell_type": "code",
   "execution_count": 561,
   "metadata": {
    "collapsed": false
   },
   "outputs": [
    {
     "data": {
      "text/html": [
       "<div>\n",
       "<table border=\"1\" class=\"dataframe\">\n",
       "  <thead>\n",
       "    <tr style=\"text-align: right;\">\n",
       "      <th></th>\n",
       "      <th>Indigena</th>\n",
       "      <th>Preta</th>\n",
       "      <th>Amarela</th>\n",
       "      <th>Parda</th>\n",
       "      <th>Branca</th>\n",
       "      <th>Sem Declaração</th>\n",
       "      <th>All</th>\n",
       "    </tr>\n",
       "    <tr>\n",
       "      <th>Participação Economica</th>\n",
       "      <th></th>\n",
       "      <th></th>\n",
       "      <th></th>\n",
       "      <th></th>\n",
       "      <th></th>\n",
       "      <th></th>\n",
       "      <th></th>\n",
       "    </tr>\n",
       "  </thead>\n",
       "  <tbody>\n",
       "    <tr>\n",
       "      <th>Economicamente Ativa</th>\n",
       "      <td>0</td>\n",
       "      <td>22</td>\n",
       "      <td>5</td>\n",
       "      <td>0</td>\n",
       "      <td>24</td>\n",
       "      <td>0</td>\n",
       "      <td>51</td>\n",
       "    </tr>\n",
       "    <tr>\n",
       "      <th>Não Economicamente Ativa</th>\n",
       "      <td>0</td>\n",
       "      <td>15</td>\n",
       "      <td>3</td>\n",
       "      <td>0</td>\n",
       "      <td>17</td>\n",
       "      <td>0</td>\n",
       "      <td>35</td>\n",
       "    </tr>\n",
       "    <tr>\n",
       "      <th>All</th>\n",
       "      <td>0</td>\n",
       "      <td>43</td>\n",
       "      <td>8</td>\n",
       "      <td>0</td>\n",
       "      <td>48</td>\n",
       "      <td>0</td>\n",
       "      <td>100</td>\n",
       "    </tr>\n",
       "  </tbody>\n",
       "</table>\n",
       "</div>"
      ],
      "text/plain": [
       "                          Indigena  Preta  Amarela  Parda  Branca  \\\n",
       "Participação Economica                                              \n",
       "Economicamente Ativa             0     22        5      0      24   \n",
       "Não Economicamente Ativa         0     15        3      0      17   \n",
       "All                              0     43        8      0      48   \n",
       "\n",
       "                          Sem Declaração  All  \n",
       "Participação Economica                         \n",
       "Economicamente Ativa                   0   51  \n",
       "Não Economicamente Ativa               0   35  \n",
       "All                                    0  100  "
      ]
     },
     "execution_count": 561,
     "metadata": {},
     "output_type": "execute_result"
    }
   ],
   "source": [
    "ct1=(ct/len(dados)*100).round(decimals=0)\n",
    "ct1       "
   ]
  },
  {
   "cell_type": "code",
   "execution_count": 562,
   "metadata": {
    "collapsed": false
   },
   "outputs": [
    {
     "name": "stdout",
     "output_type": "stream",
     "text": [
      "1 = Rede Publica\n",
      "2 = Rede Privada\n"
     ]
    },
    {
     "data": {
      "image/png": "[encoded data removed]",
      "text/plain": [
       "<matplotlib.figure.Figure at 0x21a5742e898>"
      ]
     },
     "metadata": {},
     "output_type": "display_data"
    }
   ],
   "source": [
    "ct1 = ct1.iloc[0:2,]\n",
    "plot = ct1.plot(kind = \"bar\",figsize = (10,10))\n",
    "plt.ylabel('Freq.Relativa (em%)')\n",
    "print(\"1 = Rede Publica\")\n",
    "print(\"2 = Rede Privada\")"
   ]
  },
  {
   "cell_type": "code",
   "execution_count": 563,
   "metadata": {
    "collapsed": false
   },
   "outputs": [
    {
     "name": "stdout",
     "output_type": "stream",
     "text": [
      "regiao x raça\n"
     ]
    },
    {
     "data": {
      "text/html": [
       "<div>\n",
       "<table border=\"1\" class=\"dataframe\">\n",
       "  <thead>\n",
       "    <tr style=\"text-align: right;\">\n",
       "      <th>cor ou raça</th>\n",
       "      <th>Indigena</th>\n",
       "      <th>Preta</th>\n",
       "      <th>Amarela</th>\n",
       "      <th>Parda</th>\n",
       "      <th>Branca</th>\n",
       "      <th>Sem Declaração</th>\n",
       "      <th>All</th>\n",
       "    </tr>\n",
       "    <tr>\n",
       "      <th>sabe ler e escrever</th>\n",
       "      <th></th>\n",
       "      <th></th>\n",
       "      <th></th>\n",
       "      <th></th>\n",
       "      <th></th>\n",
       "      <th></th>\n",
       "      <th></th>\n",
       "    </tr>\n",
       "  </thead>\n",
       "  <tbody>\n",
       "    <tr>\n",
       "      <th>Sim</th>\n",
       "      <td>1224</td>\n",
       "      <td>134470</td>\n",
       "      <td>25477</td>\n",
       "      <td>1343</td>\n",
       "      <td>142895</td>\n",
       "      <td>0</td>\n",
       "      <td>305409</td>\n",
       "    </tr>\n",
       "    <tr>\n",
       "      <th>Não</th>\n",
       "      <td>464</td>\n",
       "      <td>20748</td>\n",
       "      <td>4653</td>\n",
       "      <td>128</td>\n",
       "      <td>31147</td>\n",
       "      <td>6</td>\n",
       "      <td>57146</td>\n",
       "    </tr>\n",
       "    <tr>\n",
       "      <th>All</th>\n",
       "      <td>1688</td>\n",
       "      <td>155218</td>\n",
       "      <td>30130</td>\n",
       "      <td>1471</td>\n",
       "      <td>174042</td>\n",
       "      <td>6</td>\n",
       "      <td>362555</td>\n",
       "    </tr>\n",
       "  </tbody>\n",
       "</table>\n",
       "</div>"
      ],
      "text/plain": [
       "cor ou raça          Indigena   Preta  Amarela  Parda  Branca  Sem Declaração  \\\n",
       "sabe ler e escrever                                                             \n",
       "Sim                      1224  134470    25477   1343  142895               0   \n",
       "Não                       464   20748     4653    128   31147               6   \n",
       "All                      1688  155218    30130   1471  174042               6   \n",
       "\n",
       "cor ou raça             All  \n",
       "sabe ler e escrever          \n",
       "Sim                  305409  \n",
       "Não                   57146  \n",
       "All                  362555  "
      ]
     },
     "execution_count": 563,
     "metadata": {},
     "output_type": "execute_result"
    }
   ],
   "source": [
    "print('regiao x raça')\n",
    "ct = pd.crosstab(dados.V0601,dados.V0404,margins = True, rownames = ['sabe ler e escrever'],colnames = ['cor ou raça'])\n",
    "ct = ct.loc[['Sim','Não','All']]\n",
    "ct\n"
   ]
  },
  {
   "cell_type": "code",
   "execution_count": 564,
   "metadata": {
    "collapsed": false
   },
   "outputs": [
    {
     "data": {
      "text/html": [
       "<div>\n",
       "<table border=\"1\" class=\"dataframe\">\n",
       "  <thead>\n",
       "    <tr style=\"text-align: right;\">\n",
       "      <th></th>\n",
       "      <th>Indigena</th>\n",
       "      <th>Preta</th>\n",
       "      <th>Amarela</th>\n",
       "      <th>Parda</th>\n",
       "      <th>Branca</th>\n",
       "      <th>Sem Declaração</th>\n",
       "      <th>All</th>\n",
       "    </tr>\n",
       "    <tr>\n",
       "      <th>sabe ler e escrever</th>\n",
       "      <th></th>\n",
       "      <th></th>\n",
       "      <th></th>\n",
       "      <th></th>\n",
       "      <th></th>\n",
       "      <th></th>\n",
       "      <th></th>\n",
       "    </tr>\n",
       "  </thead>\n",
       "  <tbody>\n",
       "    <tr>\n",
       "      <th>Sim</th>\n",
       "      <td>0</td>\n",
       "      <td>37</td>\n",
       "      <td>7</td>\n",
       "      <td>0</td>\n",
       "      <td>39</td>\n",
       "      <td>0</td>\n",
       "      <td>84</td>\n",
       "    </tr>\n",
       "    <tr>\n",
       "      <th>Não</th>\n",
       "      <td>0</td>\n",
       "      <td>6</td>\n",
       "      <td>1</td>\n",
       "      <td>0</td>\n",
       "      <td>9</td>\n",
       "      <td>0</td>\n",
       "      <td>16</td>\n",
       "    </tr>\n",
       "    <tr>\n",
       "      <th>All</th>\n",
       "      <td>0</td>\n",
       "      <td>43</td>\n",
       "      <td>8</td>\n",
       "      <td>0</td>\n",
       "      <td>48</td>\n",
       "      <td>0</td>\n",
       "      <td>100</td>\n",
       "    </tr>\n",
       "  </tbody>\n",
       "</table>\n",
       "</div>"
      ],
      "text/plain": [
       "                     Indigena  Preta  Amarela  Parda  Branca  Sem Declaração  \\\n",
       "sabe ler e escrever                                                            \n",
       "Sim                         0     37        7      0      39               0   \n",
       "Não                         0      6        1      0       9               0   \n",
       "All                         0     43        8      0      48               0   \n",
       "\n",
       "                     All  \n",
       "sabe ler e escrever       \n",
       "Sim                   84  \n",
       "Não                   16  \n",
       "All                  100  "
      ]
     },
     "execution_count": 564,
     "metadata": {},
     "output_type": "execute_result"
    }
   ],
   "source": [
    "ct1=(ct/len(dados)*100).round(decimals=0)\n",
    "ct1       \n"
   ]
  },
  {
   "cell_type": "code",
   "execution_count": 565,
   "metadata": {
    "collapsed": false
   },
   "outputs": [
    {
     "data": {
      "text/plain": [
       "<matplotlib.text.Text at 0x21a5c331048>"
      ]
     },
     "execution_count": 565,
     "metadata": {},
     "output_type": "execute_result"
    },
    {
     "data": {
      "image/png": "[encoded data removed]",
      "text/plain": [
       "<matplotlib.figure.Figure at 0x21a5912ca20>"
      ]
     },
     "metadata": {},
     "output_type": "display_data"
    }
   ],
   "source": [
    "ct1 = ct1.iloc[0:2,]\n",
    "plot = ct1.plot(kind = \"bar\",figsize = (8,8))\n",
    "plt.ylabel('Freq.Relativa (em%)')"
   ]
  },
  {
   "cell_type": "code",
   "execution_count": 602,
   "metadata": {
    "collapsed": false
   },
   "outputs": [
    {
     "name": "stdout",
     "output_type": "stream",
     "text": [
      "regiao x raça\n"
     ]
    },
    {
     "data": {
      "text/html": [
       "<div>\n",
       "<table border=\"1\" class=\"dataframe\">\n",
       "  <thead>\n",
       "    <tr style=\"text-align: right;\">\n",
       "      <th>cor ou raçã</th>\n",
       "      <th>Indigena</th>\n",
       "      <th>Preta</th>\n",
       "      <th>Amarela</th>\n",
       "      <th>Parda</th>\n",
       "      <th>Branca</th>\n",
       "      <th>Sem Declaração</th>\n",
       "      <th>All</th>\n",
       "    </tr>\n",
       "    <tr>\n",
       "      <th>Rede de Ensino</th>\n",
       "      <th></th>\n",
       "      <th></th>\n",
       "      <th></th>\n",
       "      <th></th>\n",
       "      <th></th>\n",
       "      <th></th>\n",
       "      <th></th>\n",
       "    </tr>\n",
       "  </thead>\n",
       "  <tbody>\n",
       "    <tr>\n",
       "      <th>Norte</th>\n",
       "      <td>912</td>\n",
       "      <td>14044</td>\n",
       "      <td>4376</td>\n",
       "      <td>180</td>\n",
       "      <td>39675</td>\n",
       "      <td>0</td>\n",
       "      <td>59187</td>\n",
       "    </tr>\n",
       "    <tr>\n",
       "      <th>Nordeste</th>\n",
       "      <td>398</td>\n",
       "      <td>28656</td>\n",
       "      <td>10756</td>\n",
       "      <td>280</td>\n",
       "      <td>64501</td>\n",
       "      <td>6</td>\n",
       "      <td>104597</td>\n",
       "    </tr>\n",
       "    <tr>\n",
       "      <th>Sudeste</th>\n",
       "      <td>160</td>\n",
       "      <td>53863</td>\n",
       "      <td>9782</td>\n",
       "      <td>547</td>\n",
       "      <td>40776</td>\n",
       "      <td>0</td>\n",
       "      <td>105128</td>\n",
       "    </tr>\n",
       "    <tr>\n",
       "      <th>Sul</th>\n",
       "      <td>115</td>\n",
       "      <td>43363</td>\n",
       "      <td>2639</td>\n",
       "      <td>271</td>\n",
       "      <td>9728</td>\n",
       "      <td>0</td>\n",
       "      <td>56116</td>\n",
       "    </tr>\n",
       "    <tr>\n",
       "      <th>Centro Oeste</th>\n",
       "      <td>103</td>\n",
       "      <td>15292</td>\n",
       "      <td>2577</td>\n",
       "      <td>193</td>\n",
       "      <td>19362</td>\n",
       "      <td>0</td>\n",
       "      <td>37527</td>\n",
       "    </tr>\n",
       "    <tr>\n",
       "      <th>All</th>\n",
       "      <td>1688</td>\n",
       "      <td>155218</td>\n",
       "      <td>30130</td>\n",
       "      <td>1471</td>\n",
       "      <td>174042</td>\n",
       "      <td>6</td>\n",
       "      <td>362555</td>\n",
       "    </tr>\n",
       "  </tbody>\n",
       "</table>\n",
       "</div>"
      ],
      "text/plain": [
       "cor ou raçã     Indigena   Preta  Amarela  Parda  Branca  Sem Declaração  \\\n",
       "Rede de Ensino                                                             \n",
       "Norte                912   14044     4376    180   39675               0   \n",
       "Nordeste             398   28656    10756    280   64501               6   \n",
       "Sudeste              160   53863     9782    547   40776               0   \n",
       "Sul                  115   43363     2639    271    9728               0   \n",
       "Centro Oeste         103   15292     2577    193   19362               0   \n",
       "All                 1688  155218    30130   1471  174042               6   \n",
       "\n",
       "cor ou raçã        All  \n",
       "Rede de Ensino          \n",
       "Norte            59187  \n",
       "Nordeste        104597  \n",
       "Sudeste         105128  \n",
       "Sul              56116  \n",
       "Centro Oeste     37527  \n",
       "All             362555  "
      ]
     },
     "execution_count": 602,
     "metadata": {},
     "output_type": "execute_result"
    }
   ],
   "source": [
    "print('regiao x raça')\n",
    "ct = pd.crosstab(dados.regiao,dados.V0404,margins = True, rownames = ['Rede de Ensino'],colnames = ['cor ou raçã'])\n",
    "ct = ct.loc[[\"Norte\",\"Nordeste\",\"Sudeste\",\"Sul\",\"Centro Oeste\",'All']]\n",
    "ct\n"
   ]
  },
  {
   "cell_type": "code",
   "execution_count": 603,
   "metadata": {
    "collapsed": false
   },
   "outputs": [
    {
     "data": {
      "text/html": [
       "<div>\n",
       "<table border=\"1\" class=\"dataframe\">\n",
       "  <thead>\n",
       "    <tr style=\"text-align: right;\">\n",
       "      <th></th>\n",
       "      <th>Indigena</th>\n",
       "      <th>Preta</th>\n",
       "      <th>Amarela</th>\n",
       "      <th>Parda</th>\n",
       "      <th>Branca</th>\n",
       "      <th>Sem Declaração</th>\n",
       "      <th>All</th>\n",
       "    </tr>\n",
       "    <tr>\n",
       "      <th>Rede de Ensino</th>\n",
       "      <th></th>\n",
       "      <th></th>\n",
       "      <th></th>\n",
       "      <th></th>\n",
       "      <th></th>\n",
       "      <th></th>\n",
       "      <th></th>\n",
       "    </tr>\n",
       "  </thead>\n",
       "  <tbody>\n",
       "    <tr>\n",
       "      <th>Norte</th>\n",
       "      <td>0</td>\n",
       "      <td>4</td>\n",
       "      <td>1</td>\n",
       "      <td>0</td>\n",
       "      <td>11</td>\n",
       "      <td>0</td>\n",
       "      <td>16</td>\n",
       "    </tr>\n",
       "    <tr>\n",
       "      <th>Nordeste</th>\n",
       "      <td>0</td>\n",
       "      <td>8</td>\n",
       "      <td>3</td>\n",
       "      <td>0</td>\n",
       "      <td>18</td>\n",
       "      <td>0</td>\n",
       "      <td>29</td>\n",
       "    </tr>\n",
       "    <tr>\n",
       "      <th>Sudeste</th>\n",
       "      <td>0</td>\n",
       "      <td>15</td>\n",
       "      <td>3</td>\n",
       "      <td>0</td>\n",
       "      <td>11</td>\n",
       "      <td>0</td>\n",
       "      <td>29</td>\n",
       "    </tr>\n",
       "    <tr>\n",
       "      <th>Sul</th>\n",
       "      <td>0</td>\n",
       "      <td>12</td>\n",
       "      <td>1</td>\n",
       "      <td>0</td>\n",
       "      <td>3</td>\n",
       "      <td>0</td>\n",
       "      <td>15</td>\n",
       "    </tr>\n",
       "    <tr>\n",
       "      <th>Centro Oeste</th>\n",
       "      <td>0</td>\n",
       "      <td>4</td>\n",
       "      <td>1</td>\n",
       "      <td>0</td>\n",
       "      <td>5</td>\n",
       "      <td>0</td>\n",
       "      <td>10</td>\n",
       "    </tr>\n",
       "    <tr>\n",
       "      <th>All</th>\n",
       "      <td>0</td>\n",
       "      <td>43</td>\n",
       "      <td>8</td>\n",
       "      <td>0</td>\n",
       "      <td>48</td>\n",
       "      <td>0</td>\n",
       "      <td>100</td>\n",
       "    </tr>\n",
       "  </tbody>\n",
       "</table>\n",
       "</div>"
      ],
      "text/plain": [
       "                Indigena  Preta  Amarela  Parda  Branca  Sem Declaração  All\n",
       "Rede de Ensino                                                              \n",
       "Norte                  0      4        1      0      11               0   16\n",
       "Nordeste               0      8        3      0      18               0   29\n",
       "Sudeste                0     15        3      0      11               0   29\n",
       "Sul                    0     12        1      0       3               0   15\n",
       "Centro Oeste           0      4        1      0       5               0   10\n",
       "All                    0     43        8      0      48               0  100"
      ]
     },
     "execution_count": 603,
     "metadata": {},
     "output_type": "execute_result"
    }
   ],
   "source": [
    "ct1=(ct/len(dados)*100).round(decimals=0)\n",
    "ct1       \n",
    "\n"
   ]
  },
  {
   "cell_type": "code",
   "execution_count": 604,
   "metadata": {
    "collapsed": false
   },
   "outputs": [
    {
     "data": {
      "text/plain": [
       "<matplotlib.text.Text at 0x21a06ca7e48>"
      ]
     },
     "execution_count": 604,
     "metadata": {},
     "output_type": "execute_result"
    },
    {
     "data": {
      "image/png": "[encoded data removed]",
      "text/plain": [
       "<matplotlib.figure.Figure at 0x21a0a4d26d8>"
      ]
     },
     "metadata": {},
     "output_type": "display_data"
    }
   ],
   "source": [
    "ct1 = ct1.iloc[0:5,]\n",
    "plot = ct1.plot(kind = \"bar\",figsize = (10,10))\n",
    "plt.ylabel('Freq.Relativa (em%)')"
   ]
  },
  {
   "cell_type": "code",
   "execution_count": 615,
   "metadata": {
    "collapsed": false
   },
   "outputs": [
    {
     "name": "stdout",
     "output_type": "stream",
     "text": [
      "regiao x raça\n"
     ]
    },
    {
     "data": {
      "text/html": [
       "<div>\n",
       "<table border=\"1\" class=\"dataframe\">\n",
       "  <thead>\n",
       "    <tr style=\"text-align: right;\">\n",
       "      <th>UF</th>\n",
       "      <th>Publica</th>\n",
       "      <th>Privada</th>\n",
       "      <th>All</th>\n",
       "    </tr>\n",
       "    <tr>\n",
       "      <th>Rede de Ensino</th>\n",
       "      <th></th>\n",
       "      <th></th>\n",
       "      <th></th>\n",
       "    </tr>\n",
       "  </thead>\n",
       "  <tbody>\n",
       "    <tr>\n",
       "      <th>Norte</th>\n",
       "      <td>16305</td>\n",
       "      <td>3155</td>\n",
       "      <td>59187</td>\n",
       "    </tr>\n",
       "    <tr>\n",
       "      <th>Nordeste</th>\n",
       "      <td>23395</td>\n",
       "      <td>7953</td>\n",
       "      <td>104597</td>\n",
       "    </tr>\n",
       "    <tr>\n",
       "      <th>Sudeste</th>\n",
       "      <td>19898</td>\n",
       "      <td>7307</td>\n",
       "      <td>105128</td>\n",
       "    </tr>\n",
       "    <tr>\n",
       "      <th>Sul</th>\n",
       "      <td>10770</td>\n",
       "      <td>3663</td>\n",
       "      <td>56116</td>\n",
       "    </tr>\n",
       "    <tr>\n",
       "      <th>Centro Oeste</th>\n",
       "      <td>7587</td>\n",
       "      <td>3111</td>\n",
       "      <td>37527</td>\n",
       "    </tr>\n",
       "    <tr>\n",
       "      <th>All</th>\n",
       "      <td>77955</td>\n",
       "      <td>25189</td>\n",
       "      <td>362555</td>\n",
       "    </tr>\n",
       "  </tbody>\n",
       "</table>\n",
       "</div>"
      ],
      "text/plain": [
       "UF              Publica  Privada     All\n",
       "Rede de Ensino                          \n",
       "Norte             16305     3155   59187\n",
       "Nordeste          23395     7953  104597\n",
       "Sudeste           19898     7307  105128\n",
       "Sul               10770     3663   56116\n",
       "Centro Oeste       7587     3111   37527\n",
       "All               77955    25189  362555"
      ]
     },
     "execution_count": 615,
     "metadata": {},
     "output_type": "execute_result"
    }
   ],
   "source": [
    "print('regiao x raça')\n",
    "ct = pd.crosstab(dados.regiao,dados.V6002,margins = True, rownames = ['Rede de Ensino'],colnames = ['UF'])\n",
    "ct = ct.loc[[\"Norte\",\"Nordeste\",\"Sudeste\",\"Sul\",\"Centro Oeste\",'All']]\n",
    "ct\n"
   ]
  },
  {
   "cell_type": "code",
   "execution_count": 616,
   "metadata": {
    "collapsed": false
   },
   "outputs": [
    {
     "data": {
      "text/html": [
       "<div>\n",
       "<table border=\"1\" class=\"dataframe\">\n",
       "  <thead>\n",
       "    <tr style=\"text-align: right;\">\n",
       "      <th></th>\n",
       "      <th>Publica</th>\n",
       "      <th>Privada</th>\n",
       "      <th>All</th>\n",
       "    </tr>\n",
       "    <tr>\n",
       "      <th>Rede de Ensino</th>\n",
       "      <th></th>\n",
       "      <th></th>\n",
       "      <th></th>\n",
       "    </tr>\n",
       "  </thead>\n",
       "  <tbody>\n",
       "    <tr>\n",
       "      <th>Norte</th>\n",
       "      <td>4</td>\n",
       "      <td>1</td>\n",
       "      <td>16</td>\n",
       "    </tr>\n",
       "    <tr>\n",
       "      <th>Nordeste</th>\n",
       "      <td>6</td>\n",
       "      <td>2</td>\n",
       "      <td>29</td>\n",
       "    </tr>\n",
       "    <tr>\n",
       "      <th>Sudeste</th>\n",
       "      <td>5</td>\n",
       "      <td>2</td>\n",
       "      <td>29</td>\n",
       "    </tr>\n",
       "    <tr>\n",
       "      <th>Sul</th>\n",
       "      <td>3</td>\n",
       "      <td>1</td>\n",
       "      <td>15</td>\n",
       "    </tr>\n",
       "    <tr>\n",
       "      <th>Centro Oeste</th>\n",
       "      <td>2</td>\n",
       "      <td>1</td>\n",
       "      <td>10</td>\n",
       "    </tr>\n",
       "    <tr>\n",
       "      <th>All</th>\n",
       "      <td>22</td>\n",
       "      <td>7</td>\n",
       "      <td>100</td>\n",
       "    </tr>\n",
       "  </tbody>\n",
       "</table>\n",
       "</div>"
      ],
      "text/plain": [
       "                Publica  Privada  All\n",
       "Rede de Ensino                       \n",
       "Norte                 4        1   16\n",
       "Nordeste              6        2   29\n",
       "Sudeste               5        2   29\n",
       "Sul                   3        1   15\n",
       "Centro Oeste          2        1   10\n",
       "All                  22        7  100"
      ]
     },
     "execution_count": 616,
     "metadata": {},
     "output_type": "execute_result"
    }
   ],
   "source": [
    "ct1=(ct/len(dados)*100).round(decimals=0)\n",
    "ct1       \n",
    "\n"
   ]
  },
  {
   "cell_type": "code",
   "execution_count": 617,
   "metadata": {
    "collapsed": false
   },
   "outputs": [
    {
     "data": {
      "text/plain": [
       "<matplotlib.text.Text at 0x21a68676cf8>"
      ]
     },
     "execution_count": 617,
     "metadata": {},
     "output_type": "execute_result"
    },
    {
     "data": {
      "image/png": "[encoded data removed]",
      "text/plain": [
       "<matplotlib.figure.Figure at 0x21a6db47390>"
      ]
     },
     "metadata": {},
     "output_type": "display_data"
    }
   ],
   "source": [
    "ct1 = ct1.iloc[0:5,]\n",
    "plot = ct1.plot(kind = \"bar\",figsize = (15,10))\n",
    "plt.ylabel('Freq.Relativa (em%)')"
   ]
  },
  {
   "cell_type": "code",
   "execution_count": 608,
   "metadata": {
    "collapsed": false
   },
   "outputs": [
    {
     "data": {
      "text/plain": [
       "count    362555.000000\n",
       "mean         33.049813\n",
       "std          20.870874\n",
       "min           0.000000\n",
       "25%          16.000000\n",
       "50%          31.000000\n",
       "75%          48.000000\n",
       "max         109.000000\n",
       "Name: V8005, dtype: float64"
      ]
     },
     "execution_count": 608,
     "metadata": {},
     "output_type": "execute_result"
    }
   ],
   "source": [
    "dados.V8005.describe()"
   ]
  },
  {
   "cell_type": "code",
   "execution_count": 609,
   "metadata": {
    "collapsed": false
   },
   "outputs": [
    {
     "name": "stdout",
     "output_type": "stream",
     "text": [
      "0.05314507556392074\n"
     ]
    }
   ],
   "source": [
    "delta = 48-16\n",
    "A = (delta/(n**(1/2)))\n",
    "print(A)\n",
    "faixa = np.arange(16,48,2)"
   ]
  },
  {
   "cell_type": "code",
   "execution_count": 610,
   "metadata": {
    "collapsed": false
   },
   "outputs": [
    {
     "data": {
      "text/plain": [
       "(16, 18]    13014\n",
       "(30, 32]    12018\n",
       "(18, 20]    11965\n",
       "(28, 30]    11837\n",
       "(32, 34]    11752\n",
       "(26, 28]    11548\n",
       "(20, 22]    11531\n",
       "(24, 26]    11444\n",
       "(22, 24]    11439\n",
       "(34, 36]    11306\n",
       "(36, 38]    10773\n",
       "(38, 40]    10670\n",
       "(40, 42]     9945\n",
       "(42, 44]     9744\n",
       "(44, 46]     9390\n",
       "dtype: int64"
      ]
     },
     "execution_count": 610,
     "metadata": {},
     "output_type": "execute_result"
    }
   ],
   "source": [
    "V8005 = pd.cut(dados.V8005,faixa)\n",
    "V8005.value_counts()"
   ]
  },
  {
   "cell_type": "code",
   "execution_count": 611,
   "metadata": {
    "collapsed": false
   },
   "outputs": [
    {
     "data": {
      "image/png": "[encoded data removed]",
      "text/plain": [
       "<matplotlib.figure.Figure at 0x21a01689e10>"
      ]
     },
     "metadata": {},
     "output_type": "display_data"
    }
   ],
   "source": [
    "plot = dados.V8005.plot.hist(bins=faixa, normed = 1,figsize = (6,6))"
   ]
  },
  {
   "cell_type": "code",
   "execution_count": 612,
   "metadata": {
    "collapsed": false
   },
   "outputs": [
    {
     "data": {
      "text/plain": [
       "count    3.618360e+05\n",
       "mean     4.899181e+10\n",
       "std      2.158512e+11\n",
       "min      0.000000e+00\n",
       "25%      3.100000e+02\n",
       "50%      6.000000e+02\n",
       "75%      1.125000e+03\n",
       "max      1.000000e+12\n",
       "Name: V4750, dtype: float64"
      ]
     },
     "execution_count": 612,
     "metadata": {},
     "output_type": "execute_result"
    }
   ],
   "source": [
    "dados.V4750.describe()"
   ]
  },
  {
   "cell_type": "code",
   "execution_count": 613,
   "metadata": {
    "collapsed": false
   },
   "outputs": [
    {
     "name": "stdout",
     "output_type": "stream",
     "text": [
      "132.0322971041156\n"
     ]
    }
   ],
   "source": [
    "delta = 80000 - 500 \n",
    "A = (delta/(n**(1/2)))\n",
    "print(A)\n",
    "faixa = np.arange(0,25000,500)"
   ]
  },
  {
   "cell_type": "code",
   "execution_count": 614,
   "metadata": {
    "collapsed": false
   },
   "outputs": [
    {
     "data": {
      "text/plain": [
       "(0, 500]          150506\n",
       "(500, 1000]       103003\n",
       "(1000, 1500]       37845\n",
       "(1500, 2000]       16398\n",
       "(2000, 2500]        8383\n",
       "(2500, 3000]        5546\n",
       "(3000, 3500]        3376\n",
       "(3500, 4000]        2664\n",
       "(4000, 4500]        1629\n",
       "(4500, 5000]        1606\n",
       "(5000, 5500]         931\n",
       "(5500, 6000]         849\n",
       "(6500, 7000]         620\n",
       "(6000, 6500]         570\n",
       "(7500, 8000]         432\n",
       "(7000, 7500]         390\n",
       "(9500, 10000]        317\n",
       "(8000, 8500]         307\n",
       "(8500, 9000]         258\n",
       "(9000, 9500]         193\n",
       "(10000, 10500]       169\n",
       "(10500, 11000]       118\n",
       "(11500, 12000]       117\n",
       "(11000, 11500]       113\n",
       "(12000, 12500]        95\n",
       "(13000, 13500]        84\n",
       "(12500, 13000]        79\n",
       "(13500, 14000]        75\n",
       "(14500, 15000]        72\n",
       "(15500, 16000]        37\n",
       "(19500, 20000]        34\n",
       "(14000, 14500]        33\n",
       "(17500, 18000]        32\n",
       "(15000, 15500]        30\n",
       "(16000, 16500]        27\n",
       "(16500, 17000]        24\n",
       "(17000, 17500]        16\n",
       "(18000, 18500]        15\n",
       "(21500, 22000]        10\n",
       "(20000, 20500]         9\n",
       "(20500, 21000]         8\n",
       "(19000, 19500]         7\n",
       "(18500, 19000]         6\n",
       "(21000, 21500]         6\n",
       "(22500, 23000]         5\n",
       "(22000, 22500]         4\n",
       "(23000, 23500]         3\n",
       "(23500, 24000]         2\n",
       "(24000, 24500]         2\n",
       "dtype: int64"
      ]
     },
     "execution_count": 614,
     "metadata": {},
     "output_type": "execute_result"
    }
   ],
   "source": [
    "V4750 = pd.cut(dados.V4750,faixa)\n",
    "V4750.value_counts()"
   ]
  },
  {
   "cell_type": "code",
   "execution_count": 593,
   "metadata": {
    "collapsed": false
   },
   "outputs": [
    {
     "data": {
      "image/png": "[encoded data removed]",
      "text/plain": [
       "<matplotlib.figure.Figure at 0x21a5926ad68>"
      ]
     },
     "metadata": {},
     "output_type": "display_data"
    }
   ],
   "source": [
    "plot = dados.V4750.plot.hist(bins=faixa,normed = 1,figsize = (6,6))"
   ]
  },
  {
   "cell_type": "code",
   "execution_count": 594,
   "metadata": {
    "collapsed": false
   },
   "outputs": [
    {
     "name": "stdout",
     "output_type": "stream",
     "text": [
      "boxplot Idade\n"
     ]
    },
    {
     "data": {
      "text/plain": [
       "<matplotlib.axes._subplots.AxesSubplot at 0x21a5384bdd8>"
      ]
     },
     "execution_count": 594,
     "metadata": {},
     "output_type": "execute_result"
    },
    {
     "data": {
      "image/png": "[encoded data removed]",
      "text/plain": [
       "<matplotlib.figure.Figure at 0x21a53dba0b8>"
      ]
     },
     "metadata": {},
     "output_type": "display_data"
    }
   ],
   "source": [
    "print(\"boxplot Idade\")\n",
    "dados.V8005.plot.box( ) "
   ]
  },
  {
   "cell_type": "code",
   "execution_count": 595,
   "metadata": {
    "collapsed": false
   },
   "outputs": [
    {
     "name": "stdout",
     "output_type": "stream",
     "text": [
      "Boxplot Renda\n"
     ]
    },
    {
     "data": {
      "text/plain": [
       "<matplotlib.axes._subplots.AxesSubplot at 0x21a0e6f9940>"
      ]
     },
     "execution_count": 595,
     "metadata": {},
     "output_type": "execute_result"
    },
    {
     "data": {
      "image/png": "[encoded data removed]",
      "text/plain": [
       "<matplotlib.figure.Figure at 0x21a59568128>"
      ]
     },
     "metadata": {},
     "output_type": "display_data"
    }
   ],
   "source": [
    "print(\"Boxplot Renda\")\n",
    "dados.V4750.plot.box()"
   ]
  },
  {
   "cell_type": "code",
   "execution_count": null,
   "metadata": {
    "collapsed": false
   },
   "outputs": [],
   "source": []
  },
  {
   "cell_type": "code",
   "execution_count": null,
   "metadata": {
    "collapsed": true
   },
   "outputs": [],
   "source": []
  }
 ],
 "metadata": {
  "anaconda-cloud": {},
  "kernelspec": {
   "display_name": "Python 3",
   "language": "python",
   "name": "python3"
  },
  "language_info": {
   "codemirror_mode": {
    "name": "ipython",
    "version": 3
   },
   "file_extension": ".py",
   "mimetype": "text/x-python",
   "name": "python",
   "nbconvert_exporter": "python",
   "pygments_lexer": "ipython3",
   "version": "3.5.1"
  }
 },
 "nbformat": 4,
 "nbformat_minor": 0
}
