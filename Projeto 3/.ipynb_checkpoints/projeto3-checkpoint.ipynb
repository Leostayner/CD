{
 "cells": [
  {
   "cell_type": "markdown",
   "metadata": {},
   "source": [
    "# Projeto 3"
   ]
  },
  {
   "cell_type": "markdown",
   "metadata": {},
   "source": [
    "#### Leonardo Medeiros e João"
   ]
  },
  {
   "cell_type": "markdown",
   "metadata": {},
   "source": [
    "#### Este projeto consiste em analisar a correlação entre váriaveis utilizando variaveis regressoras para explicar variaveis dependentes. Logo escolhemos como variáveis regressoras as variaveis GDH/Capita e HDI, essas duas variáveis servirão para explicar o comportamento da variavel Percepção de Corrupção."
   ]
  },
  {
   "cell_type": "code",
   "execution_count": 2,
   "metadata": {
    "collapsed": true
   },
   "outputs": [],
   "source": [
    "#Importação das blibliotecas\n",
    "%matplotlib inline\n",
    "import pandas as pd\n",
    "import matplotlib.pyplot as plt\n",
    "import numpy as np\n",
    "import os"
   ]
  },
  {
   "cell_type": "code",
   "execution_count": 3,
   "metadata": {
    "collapsed": false
   },
   "outputs": [],
   "source": [
    "#importação do database sem NaN\n",
    "c1 = pd.read_excel(\"indicator ti cpi 2009.xlsx\",index_col = 0)\n",
    "c2 = pd.read_excel(\"Indicator_HDI.xlsx\",index_col = 0)\n",
    "c3 = pd.read_excel(\"GDPpercapitaconstant2000US.xlsx\",index_col = 0)"
   ]
  },
  {
   "cell_type": "code",
   "execution_count": 4,
   "metadata": {
    "collapsed": false
   },
   "outputs": [
    {
     "data": {
      "text/html": [
       "<div>\n",
       "<table border=\"1\" class=\"dataframe\">\n",
       "  <thead>\n",
       "    <tr style=\"text-align: right;\">\n",
       "      <th></th>\n",
       "      <th>Cr</th>\n",
       "      <th>HDI</th>\n",
       "      <th>Ip</th>\n",
       "    </tr>\n",
       "  </thead>\n",
       "  <tbody>\n",
       "    <tr>\n",
       "      <th>Albania</th>\n",
       "      <td>3.3</td>\n",
       "      <td>0.734</td>\n",
       "      <td>1857.352947</td>\n",
       "    </tr>\n",
       "    <tr>\n",
       "      <th>Algeria</th>\n",
       "      <td>2.9</td>\n",
       "      <td>0.691</td>\n",
       "      <td>2192.703976</td>\n",
       "    </tr>\n",
       "    <tr>\n",
       "      <th>Angola</th>\n",
       "      <td>1.9</td>\n",
       "      <td>0.481</td>\n",
       "      <td>619.818580</td>\n",
       "    </tr>\n",
       "    <tr>\n",
       "      <th>Argentina</th>\n",
       "      <td>2.9</td>\n",
       "      <td>0.788</td>\n",
       "      <td>9933.229024</td>\n",
       "    </tr>\n",
       "    <tr>\n",
       "      <th>Armenia</th>\n",
       "      <td>2.6</td>\n",
       "      <td>0.712</td>\n",
       "      <td>1302.456980</td>\n",
       "    </tr>\n",
       "  </tbody>\n",
       "</table>\n",
       "</div>"
      ],
      "text/plain": [
       "            Cr    HDI           Ip\n",
       "Albania    3.3  0.734  1857.352947\n",
       "Algeria    2.9  0.691  2192.703976\n",
       "Angola     1.9  0.481   619.818580\n",
       "Argentina  2.9  0.788  9933.229024\n",
       "Armenia    2.6  0.712  1302.456980"
      ]
     },
     "execution_count": 4,
     "metadata": {},
     "output_type": "execute_result"
    }
   ],
   "source": [
    "#junção dos dados\n",
    "dados = c1.join(c2,how =\"outer\")\n",
    "dados = dados.join(c3,how=\"outer\")\n",
    "\n",
    "#Retirando NaN\n",
    "dados=dados[~np.isnan(dados.Cr)]\n",
    "dados=dados[~np.isnan(dados.HDI)]\n",
    "dados=dados[~np.isnan(dados.Ip)]\n",
    "dados.head()"
   ]
  },
  {
   "cell_type": "markdown",
   "metadata": {},
   "source": [
    "#### Análisando as variaveis conjuntamente obtemos o seguinte grafico:\n",
    "\n"
   ]
  },
  {
   "cell_type": "markdown",
   "metadata": {
    "collapsed": false
   },
   "source": [
    "Grafico Corrupition Perception X HDI\n",
    "\n",
    "<img src=\"corr2.png\"style=\"width:50%; weight: 50%\">"
   ]
  },
  {
   "cell_type": "markdown",
   "metadata": {
    "collapsed": false
   },
   "source": [
    "Gráfico Corrupition Perception X GDP/Capita\n",
    "\n",
    "<img src=\"corr1.png\" style= \"width:50%; weight: 50%\">"
   ]
  },
  {
   "cell_type": "markdown",
   "metadata": {},
   "source": [
    "### Análise Descritiva"
   ]
  },
  {
   "cell_type": "code",
   "execution_count": 12,
   "metadata": {
    "collapsed": false
   },
   "outputs": [
    {
     "data": {
      "image/png": "[encoded data removed]",
      "text/plain": [
       "<matplotlib.figure.Figure at 0x1c91bf4f668>"
      ]
     },
     "metadata": {},
     "output_type": "display_data"
    }
   ],
   "source": [
    "#Gráfico Criminalidade X IDH\n",
    "f, ax = plt.subplots(1,2,figsize=(16,4))\n",
    "ax[0].scatter(dados.HDI, dados.Cr, alpha=0.7)  # Plot the raw data\n",
    "ax[0].set_xlabel(\"IDH\")\n",
    "ax[0].set_ylabel(\"Índice de Percepção de Criminalidade\")\n",
    "ax[0].set_yscale('log')\n",
    "\n",
    "#Gráfico Criminalidade X IP\n",
    "ax[1].scatter(dados.Ip, dados.Cr, alpha=0.7)  # Plot the raw data\n",
    "ax[1].set_xlabel(\"Pib Per Capita\")\n",
    "ax[1].set_ylabel(\"Índice de Percepção de Criminalidade\")\n",
    "ax[1].set_yscale('log')\n",
    "ax[1].set_xscale('log')\n",
    "\n",
    "plt.tight_layout(1)"
   ]
  }
 ],
 "metadata": {
  "kernelspec": {
   "display_name": "Python 3",
   "language": "python",
   "name": "python3"
  },
  "language_info": {
   "codemirror_mode": {
    "name": "ipython",
    "version": 3
   },
   "file_extension": ".py",
   "mimetype": "text/x-python",
   "name": "python",
   "nbconvert_exporter": "python",
   "pygments_lexer": "ipython3",
   "version": "3.5.1"
  }
 },
 "nbformat": 4,
 "nbformat_minor": 0
}
